{
  "cells": [
    {
      "cell_type": "markdown",
      "metadata": {
        "id": "view-in-github",
        "colab_type": "text"
      },
      "source": [
        "<a href=\"https://colab.research.google.com/github/atikhasan007/Scikit-learn/blob/main/database_connection/connection_from_sql_server.ipynb\" target=\"_parent\"><img src=\"https://colab.research.google.com/assets/colab-badge.svg\" alt=\"Open In Colab\"/></a>"
      ]
    },
    {
      "cell_type": "code",
      "source": [
        "!pip install pyodbc"
      ],
      "metadata": {
        "id": "WOhbho8SwBay",
        "outputId": "1da65277-0534-4cfb-e563-da72c145cf7f",
        "colab": {
          "base_uri": "https://localhost:8080/"
        }
      },
      "execution_count": 33,
      "outputs": [
        {
          "output_type": "stream",
          "name": "stdout",
          "text": [
            "Collecting pyodbc\n",
            "  Downloading pyodbc-5.3.0-cp312-cp312-manylinux2014_x86_64.manylinux_2_17_x86_64.manylinux_2_28_x86_64.whl.metadata (2.7 kB)\n",
            "Downloading pyodbc-5.3.0-cp312-cp312-manylinux2014_x86_64.manylinux_2_17_x86_64.manylinux_2_28_x86_64.whl (340 kB)\n",
            "\u001b[?25l   \u001b[90m━━━━━━━━━━━━━━━━━━━━━━━━━━━━━━━━━━━━━━━━\u001b[0m \u001b[32m0.0/340.3 kB\u001b[0m \u001b[31m?\u001b[0m eta \u001b[36m-:--:--\u001b[0m\r\u001b[2K   \u001b[91m━━━━━━━━━━━━━━━━━━━━━━━━━━━━━━━━\u001b[0m\u001b[91m╸\u001b[0m\u001b[90m━━━━━━━\u001b[0m \u001b[32m276.5/340.3 kB\u001b[0m \u001b[31m8.5 MB/s\u001b[0m eta \u001b[36m0:00:01\u001b[0m\r\u001b[2K   \u001b[90m━━━━━━━━━━━━━━━━━━━━━━━━━━━━━━━━━━━━━━━━\u001b[0m \u001b[32m340.3/340.3 kB\u001b[0m \u001b[31m7.0 MB/s\u001b[0m eta \u001b[36m0:00:00\u001b[0m\n",
            "\u001b[?25hInstalling collected packages: pyodbc\n",
            "Successfully installed pyodbc-5.3.0\n"
          ]
        }
      ]
    },
    {
      "cell_type": "code",
      "source": [
        "import pandas as pd\n",
        "import pyodbc\n"
      ],
      "metadata": {
        "id": "-jQL-ZdmwBYS"
      },
      "execution_count": 34,
      "outputs": []
    },
    {
      "cell_type": "code",
      "source": [
        "\n",
        "# conn = pyodbc.connect(driver='{SQL Server Native Client 11.0}',\n",
        "#                       server='Desktopserver',\n",
        "#                       database='AdventureWorks2019',\n",
        "#                       trusted_connection='yes'\n",
        "#                       )"
      ],
      "metadata": {
        "id": "mBotsnq6wBWB"
      },
      "execution_count": 37,
      "outputs": []
    },
    {
      "cell_type": "code",
      "source": [
        "# conn = pyodbc.connect(driver='{SQL Server Native Client 11.0}',\n",
        "#                       server='RUBEL-PC',\n",
        "#                       database=\"AdventureWorks2019\",\n",
        "#                       UID='rubel',\n",
        "#                       PWD='rubel123'\n",
        "#                       )"
      ],
      "metadata": {
        "id": "INmEBEWKwBTe"
      },
      "execution_count": null,
      "outputs": []
    },
    {
      "cell_type": "markdown",
      "source": [
        "**with column Heading**"
      ],
      "metadata": {
        "id": "lL_Gvw56xunX"
      }
    },
    {
      "cell_type": "code",
      "source": [
        "query = \"SELECT * FROM SalesLT.Product\"\n",
        "df = pd.read_sql(query,conn)"
      ],
      "metadata": {
        "id": "GIsQFIbDwBQ4"
      },
      "execution_count": null,
      "outputs": []
    },
    {
      "cell_type": "markdown",
      "source": [
        "**without column heading**"
      ],
      "metadata": {
        "id": "U3O8xOqkyCTw"
      }
    },
    {
      "cell_type": "code",
      "source": [
        "# import numpy as np\n",
        "# cursor = conn.cursor()\n",
        "# cursor.execute(query)\n",
        "# data = cursor.fetchall()\n",
        "# df = pd.DataFrame(np.array(data))\n",
        "# df.head()"
      ],
      "metadata": {
        "id": "wDUKzCzgyBul"
      },
      "execution_count": 40,
      "outputs": []
    }
  ],
  "metadata": {
    "colab": {
      "name": "Welcome To Colab",
      "provenance": [],
      "include_colab_link": true
    },
    "kernelspec": {
      "display_name": "Python 3",
      "name": "python3"
    }
  },
  "nbformat": 4,
  "nbformat_minor": 0
}