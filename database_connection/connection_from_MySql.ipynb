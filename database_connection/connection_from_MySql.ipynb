{
  "nbformat": 4,
  "nbformat_minor": 0,
  "metadata": {
    "colab": {
      "provenance": [],
      "authorship_tag": "ABX9TyNDoK1nAAORqeE0RutEMwSx",
      "include_colab_link": true
    },
    "kernelspec": {
      "name": "python3",
      "display_name": "Python 3"
    },
    "language_info": {
      "name": "python"
    }
  },
  "cells": [
    {
      "cell_type": "markdown",
      "metadata": {
        "id": "view-in-github",
        "colab_type": "text"
      },
      "source": [
        "<a href=\"https://colab.research.google.com/github/atikhasan007/Scikit-learn/blob/main/database_connection/connection_from_MySql.ipynb\" target=\"_parent\"><img src=\"https://colab.research.google.com/assets/colab-badge.svg\" alt=\"Open In Colab\"/></a>"
      ]
    },
    {
      "cell_type": "code",
      "execution_count": 1,
      "metadata": {
        "colab": {
          "base_uri": "https://localhost:8080/"
        },
        "id": "R0omUPbFzM8b",
        "outputId": "aefb5e0c-7012-46ee-9d01-f619f87c8e2c"
      },
      "outputs": [
        {
          "output_type": "stream",
          "name": "stdout",
          "text": [
            "Collecting pymysql\n",
            "  Downloading pymysql-1.1.2-py3-none-any.whl.metadata (4.3 kB)\n",
            "Downloading pymysql-1.1.2-py3-none-any.whl (45 kB)\n",
            "\u001b[2K   \u001b[90m━━━━━━━━━━━━━━━━━━━━━━━━━━━━━━━━━━━━━━━━\u001b[0m \u001b[32m45.3/45.3 kB\u001b[0m \u001b[31m2.2 MB/s\u001b[0m eta \u001b[36m0:00:00\u001b[0m\n",
            "\u001b[?25hInstalling collected packages: pymysql\n",
            "Successfully installed pymysql-1.1.2\n"
          ]
        }
      ],
      "source": [
        "!pip install pymysql\n"
      ]
    },
    {
      "cell_type": "code",
      "source": [
        "import pandas as pd\n",
        "from pymysql import connect\n"
      ],
      "metadata": {
        "id": "LkXFqymbzZUi"
      },
      "execution_count": 2,
      "outputs": []
    },
    {
      "cell_type": "code",
      "source": [
        "# conn = connect(host='localhost',\n",
        "#                user='root',\n",
        "#                passwd='abc123',\n",
        "#                database='petrodb'\n",
        "#                )"
      ],
      "metadata": {
        "id": "R9QEmCHRzZPK"
      },
      "execution_count": 5,
      "outputs": []
    },
    {
      "cell_type": "code",
      "source": [
        "# cur = conn.cursor()\n",
        "# query = 'show tables'\n",
        "# cur.execute(query)\n",
        "# tables = cur.fetchall()\n",
        "#  for table in tables:\n",
        "#     print(table)\n"
      ],
      "metadata": {
        "id": "gYHZSFNuzZIe"
      },
      "execution_count": 8,
      "outputs": []
    },
    {
      "cell_type": "code",
      "source": [
        "# query = 'select * from customers'\n",
        "# cur.execute(query)\n",
        "\n",
        "# df = pd.read_sql(query,conn)\n",
        "# df.head()"
      ],
      "metadata": {
        "id": "VTb4KPmRzZGC"
      },
      "execution_count": 9,
      "outputs": []
    }
  ]
}