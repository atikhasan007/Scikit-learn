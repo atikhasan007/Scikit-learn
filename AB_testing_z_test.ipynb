{
  "nbformat": 4,
  "nbformat_minor": 0,
  "metadata": {
    "colab": {
      "provenance": [],
      "authorship_tag": "ABX9TyOYb7dzLRlT3V67V1XxjLHn",
      "include_colab_link": true
    },
    "kernelspec": {
      "name": "python3",
      "display_name": "Python 3"
    },
    "language_info": {
      "name": "python"
    }
  },
  "cells": [
    {
      "cell_type": "markdown",
      "metadata": {
        "id": "view-in-github",
        "colab_type": "text"
      },
      "source": [
        "<a href=\"https://colab.research.google.com/github/atikhasan007/Scikit-learn/blob/main/AB_testing_z_test.ipynb\" target=\"_parent\"><img src=\"https://colab.research.google.com/assets/colab-badge.svg\" alt=\"Open In Colab\"/></a>"
      ]
    },
    {
      "cell_type": "code",
      "execution_count": 1,
      "metadata": {
        "id": "r6BGBLvKC366"
      },
      "outputs": [],
      "source": [
        "import numpy as np\n",
        "from scipy import stats\n"
      ]
    },
    {
      "cell_type": "code",
      "source": [
        "# step 1 : random seed (same output every time )\n",
        "np.random.seed(42)\n"
      ],
      "metadata": {
        "id": "Z2BML-Q_C-Ic"
      },
      "execution_count": 2,
      "outputs": []
    },
    {
      "cell_type": "code",
      "source": [
        "#setp 2 : two groups (simulate conversion data)\n",
        "group_A = np.random.binomial(1, 0.20, 100) # 20% success rate\n",
        "group_B = np.random.binomial(1, 0.25, 100) # 25% success rate\n",
        ""
      ],
      "metadata": {
        "id": "HpptyvzpDgDo"
      },
      "execution_count": 3,
      "outputs": []
    },
    {
      "cell_type": "code",
      "source": [
        "#step 3 : Calculate mean (conversion rate)\n",
        "mean_A = np.mean(group_A)\n",
        "mean_B = np.mean(group_B)\n",
        "\n",
        "print(f\"Conversion Rate A: {mean_A:.2f}\")\n",
        "print(f\"Conversion Rate B: {mean_B:.2f}\")"
      ],
      "metadata": {
        "colab": {
          "base_uri": "https://localhost:8080/"
        },
        "id": "Uuc1GafTD6BG",
        "outputId": "2dc09d31-6ebe-4071-e59c-1e3c1e3bd378"
      },
      "execution_count": 5,
      "outputs": [
        {
          "output_type": "stream",
          "name": "stdout",
          "text": [
            "Conversion Rate A: 0.18\n",
            "Conversion Rate B: 0.27\n"
          ]
        }
      ]
    },
    {
      "cell_type": "markdown",
      "source": [
        "**Z-test (for larze samples)**"
      ],
      "metadata": {
        "id": "bY2LUeSfEOCq"
      }
    },
    {
      "cell_type": "code",
      "source": [
        "# Formula: z = (p1 - p2) / sqrt(p*(1-p)*(1/n1 + 1/n2))"
      ],
      "metadata": {
        "id": "TOCHWVGAEGVP"
      },
      "execution_count": null,
      "outputs": []
    },
    {
      "cell_type": "code",
      "source": [
        "p1 , p2 = mean_A, mean_B #conversion rate\n",
        "n1, n2 = len(group_A) , len(group_B)\n",
        "p = (np.sum(group_A) + np.sum(group_B)) / (n1 + n2)\n",
        "\n",
        "z_score = (p1 - p2) / (np.sqrt(p * (1 - p) * (1/n1 + 1/n2)))\n",
        "print(f\"Z-score: {z_score:.2f}\")\n",
        "\n"
      ],
      "metadata": {
        "colab": {
          "base_uri": "https://localhost:8080/"
        },
        "id": "ycRJbNYSEGSc",
        "outputId": "9e8e1b4c-e9f5-42e2-c068-a2b9a9a4227c"
      },
      "execution_count": 6,
      "outputs": [
        {
          "output_type": "stream",
          "name": "stdout",
          "text": [
            "Z-score: -1.52\n"
          ]
        }
      ]
    },
    {
      "cell_type": "code",
      "source": [
        "# Two - tailed p-value\n",
        "p_value_z = 2 * (1 - stats.norm.cdf(abs(z_score)))\n",
        "\n",
        "print(\"\\n🔹 Z-Test Result:\")\n",
        "print(f\"Z-score = {z_score:.3f}\")\n",
        "print(f\"P-value = {p_value_z:.4f}\")"
      ],
      "metadata": {
        "colab": {
          "base_uri": "https://localhost:8080/"
        },
        "id": "Iylp1cyiEGQS",
        "outputId": "bfeadf06-cfd5-462e-aec6-960bae55d5e0"
      },
      "execution_count": 7,
      "outputs": [
        {
          "output_type": "stream",
          "name": "stdout",
          "text": [
            "\n",
            "🔹 Z-Test Result:\n",
            "Z-score = -1.524\n",
            "P-value = 0.1275\n"
          ]
        }
      ]
    },
    {
      "cell_type": "code",
      "source": [],
      "metadata": {
        "id": "7h78QK3UEGOA"
      },
      "execution_count": null,
      "outputs": []
    },
    {
      "cell_type": "code",
      "source": [],
      "metadata": {
        "id": "f0u_d-63EGGh"
      },
      "execution_count": null,
      "outputs": []
    }
  ]
}