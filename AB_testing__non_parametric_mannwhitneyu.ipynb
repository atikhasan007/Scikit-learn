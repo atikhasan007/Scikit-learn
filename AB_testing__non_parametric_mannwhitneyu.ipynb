{
  "nbformat": 4,
  "nbformat_minor": 0,
  "metadata": {
    "colab": {
      "provenance": [],
      "authorship_tag": "ABX9TyNqg7MfS+TjwsaLWuliH0Z6",
      "include_colab_link": true
    },
    "kernelspec": {
      "name": "python3",
      "display_name": "Python 3"
    },
    "language_info": {
      "name": "python"
    }
  },
  "cells": [
    {
      "cell_type": "markdown",
      "metadata": {
        "id": "view-in-github",
        "colab_type": "text"
      },
      "source": [
        "<a href=\"https://colab.research.google.com/github/atikhasan007/Scikit-learn/blob/main/AB_testing__non_parametric_mannwhitneyu.ipynb\" target=\"_parent\"><img src=\"https://colab.research.google.com/assets/colab-badge.svg\" alt=\"Open In Colab\"/></a>"
      ]
    },
    {
      "cell_type": "markdown",
      "source": [
        "**Mann-Whitney U Test**"
      ],
      "metadata": {
        "id": "a-DsfIzsT7_I"
      }
    },
    {
      "cell_type": "code",
      "execution_count": 1,
      "metadata": {
        "id": "xv-hbrZQT2N-"
      },
      "outputs": [],
      "source": [
        "import numpy as np\n",
        "from scipy.stats import mannwhitneyu\n",
        "import matplotlib.pyplot as plt\n"
      ]
    },
    {
      "cell_type": "code",
      "source": [
        "# Random seed for reproducibility\n",
        "np.random.seed(42)\n"
      ],
      "metadata": {
        "id": "bkHqQ7ykURbK"
      },
      "execution_count": 2,
      "outputs": []
    },
    {
      "cell_type": "code",
      "source": [
        "# Simulated \"Time on Page\" in seconds (skewed data)\n",
        "group_A = np.random.exponential(scale=60, size=100) # Old version\n",
        "group_B = np.random.exponential(scale=50, size=100) # New version\n",
        "\n",
        "print(group_A, group_B)"
      ],
      "metadata": {
        "colab": {
          "base_uri": "https://localhost:8080/"
        },
        "id": "vKzuKCryUapi",
        "outputId": "6c46a309-e69f-489a-c190-64e16be690b9"
      },
      "execution_count": 4,
      "outputs": [
        {
          "output_type": "stream",
          "name": "stdout",
          "text": [
            "[ 61.63864161   5.27350357  10.57765288 137.29383001  55.94963682\n",
            "   0.55437634   6.41981409  65.34974324   0.30446622  10.51894897\n",
            "  47.74187077  70.6389172   63.32648893  15.23699204  74.72503733\n",
            "  16.24942554  23.61809454  82.3414531   62.92642886 113.51736465\n",
            "  64.30879729  50.40265834   5.90142369  27.50497843  18.48960887\n",
            "  16.78201222 216.73856437  29.96324982 133.56331267  59.84006314\n",
            "  95.02951516  41.90611946  51.60935416  40.697606    13.03289372\n",
            "  76.90570818  19.7746421    1.47698886  62.21812718  11.69601421\n",
            " 169.26498884 184.65374477 147.81059308  27.73724379   0.93463892\n",
            " 158.13140744  33.53629662 204.05052097 198.82412857 115.04322103\n",
            "  20.92656409  29.17751593 114.28359915  22.86877389  11.14311698\n",
            "  48.82421952 165.07760825  71.44953587  50.64674019   6.13369184\n",
            "  57.27184293 276.63418487   9.0552352   43.8297195  125.91651827\n",
            "  81.0020549   71.64446552  72.73725337  26.72954054  20.85372506\n",
            "  99.44247044  99.67969195 121.07700284 146.67695771  42.96559422\n",
            "  41.77106265  96.05699594  62.98314449  72.63303891  95.3171685\n",
            " 132.43940858  24.74894443  28.25620732   5.92176235  51.8048416\n",
            "   2.19624625  37.59641689  46.93767514  20.25783962  53.61795181\n",
            "   1.85850373   2.28380996 103.76108217  26.79510145   8.15334248\n",
            "  44.3192153   88.17887643  14.58708021  58.51317712   5.35266174] [  2.6532548   37.89544703  38.89552213  50.72687241  64.74802815\n",
            " 186.17785043  36.31455596  19.50098571  79.28269899  15.79257327\n",
            "  28.89917156   4.08525843   1.28388048 164.36899616  90.38838211\n",
            "  59.53213664  26.29298222   9.51532681   8.50603708  14.40029946\n",
            "  39.83953242  62.69246439  53.96951748  16.42061307 154.90517493\n",
            "  66.95087024  40.4115241   47.3015236   27.20189328  14.23306461\n",
            "  22.00070647  70.90909239   0.72490399   6.16901961   2.35471885\n",
            "   2.0790726   96.71015168  60.81203059  32.13922972   5.14784592\n",
            "  33.82589829  32.0725166    9.50973564  28.44495657  25.41683073\n",
            "  47.83612165  50.4057268    2.3181162   23.46920023  49.15624974\n",
            "  34.97197263  97.06747266  53.7487382    8.89264344   3.65912181\n",
            "  51.41970736   1.34345363  44.06736889 140.86277277  42.83912228\n",
            "  24.56503461  51.54135789  30.6477987   39.44071803 141.90635731\n",
            "  24.39637637 162.45459308 117.87880919  10.89481305   3.59420777\n",
            "   5.31126677   0.91949439   4.96025058  57.44374363   3.69248135\n",
            "  19.20785941  93.176302     1.17735016  84.22652531  16.55417334\n",
            "   6.28750599  59.65777042  49.56995882 104.9707907   66.41467894\n",
            "  81.3497903   16.56669312   9.7666648   69.4378198   82.21045916\n",
            " 232.85024451  26.60396771  23.2621956   74.89772517  20.83668355\n",
            " 133.50689622  97.74195786  28.01778047  69.48923582  70.23164934]\n"
          ]
        }
      ]
    },
    {
      "cell_type": "code",
      "source": [
        " # visualize\n",
        "plt.hist(group_A, alpha=0.5, label='Group A', bins=20)\n",
        "plt.hist(group_B, alpha=0.5, label=\"Group B\", bins=20)\n",
        "plt.xlabel(\"Time on Page (seconds)\")\n",
        "plt.ylabel(\"Number of users\")\n",
        "plt.title(\"A/B testion - Time on Page\")\n",
        "plt.legend()\n",
        "plt.show()\n",
        ""
      ],
      "metadata": {
        "colab": {
          "base_uri": "https://localhost:8080/",
          "height": 472
        },
        "id": "ZnNAeOiQUai5",
        "outputId": "950aa1d6-bba1-4e5f-f22f-474c34066e64"
      },
      "execution_count": 6,
      "outputs": [
        {
          "output_type": "display_data",
          "data": {
            "text/plain": [
              "<Figure size 640x480 with 1 Axes>"
            ],
            "image/png": "[encoded data removed]"
          },
          "metadata": {}
        }
      ]
    },
    {
      "cell_type": "code",
      "source": [
        "# Mann-Whitney U Test\n",
        "statistic, p_value = mannwhitneyu(group_A, group_B)\n",
        "print(f\"Mann-Whitney U Test Statistic: {statistic}\")\n",
        "print(f\"p-value: {p_value}\")"
      ],
      "metadata": {
        "colab": {
          "base_uri": "https://localhost:8080/"
        },
        "id": "sI1760m8Vpjz",
        "outputId": "22a6a1b6-3c48-4836-bf0a-116d9b48555f"
      },
      "execution_count": 7,
      "outputs": [
        {
          "output_type": "stream",
          "name": "stdout",
          "text": [
            "Mann-Whitney U Test Statistic: 5732.0\n",
            "p-value: 0.07388271895157436\n"
          ]
        }
      ]
    },
    {
      "cell_type": "code",
      "source": [
        "# Decision\n",
        "alpha = 0.05\n",
        "if p_value < alpha:\n",
        "    print(\"✅ Significant difference: New version changed user behavior\")\n",
        "else:\n",
        "    print(\"❌ No significant difference: New version not significantly different\")\n"
      ],
      "metadata": {
        "colab": {
          "base_uri": "https://localhost:8080/"
        },
        "id": "lgSKpZMPVpho",
        "outputId": "dcdbcfdf-6fba-4930-fc9b-eedd1b818198"
      },
      "execution_count": 8,
      "outputs": [
        {
          "output_type": "stream",
          "name": "stdout",
          "text": [
            "❌ No significant difference: New version not significantly different\n"
          ]
        }
      ]
    },
    {
      "cell_type": "markdown",
      "source": [
        "Data: Skewed, তাই t-test ঠিক হবে না।\n",
        "\n",
        "Histogram: চোখে দেখা যাবে group B সামান্য কম সময় কাটাচ্ছে।\n",
        "\n",
        "Mann–Whitney U Test: rank-based comparison → median বা distribution এর পার্থক্য বের করে।\n",
        "\n",
        "Decision: যদি p-value < 0.05 → Significant difference আছে। **bold text**"
      ],
      "metadata": {
        "id": "ei5v9bEoWEPj"
      }
    }
  ]
}