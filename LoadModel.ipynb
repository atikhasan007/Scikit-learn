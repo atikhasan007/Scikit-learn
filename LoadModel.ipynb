{
  "cells": [
    {
      "cell_type": "markdown",
      "metadata": {
        "id": "view-in-github",
        "colab_type": "text"
      },
      "source": [
        "<a href=\"https://colab.research.google.com/github/atikhasan007/Scikit-learn/blob/main/LoadModel.ipynb\" target=\"_parent\"><img src=\"https://colab.research.google.com/assets/colab-badge.svg\" alt=\"Open In Colab\"/></a>"
      ]
    },
    {
      "cell_type": "markdown",
      "id": "6a6531e1",
      "metadata": {
        "id": "6a6531e1"
      },
      "source": [
        "### Load Pickle saving Model"
      ]
    },
    {
      "cell_type": "code",
      "execution_count": null,
      "id": "2701ec31",
      "metadata": {
        "id": "2701ec31"
      },
      "outputs": [],
      "source": [
        "import pandas as pd\n",
        "import pickle"
      ]
    },
    {
      "cell_type": "code",
      "execution_count": null,
      "id": "941fb419",
      "metadata": {
        "id": "941fb419"
      },
      "outputs": [],
      "source": [
        "with open('model_pickle','rb') as file:\n",
        "    mod = pickle.load(file)"
      ]
    },
    {
      "cell_type": "code",
      "execution_count": null,
      "id": "1d09b860",
      "metadata": {
        "id": "1d09b860",
        "outputId": "4050ae36-afcd-4215-91ba-8ca2afb8995b"
      },
      "outputs": [
        {
          "data": {
            "text/plain": [
              "array([[3.88516672]])"
            ]
          },
          "execution_count": 3,
          "metadata": {},
          "output_type": "execute_result"
        }
      ],
      "source": [
        "mod.coef_"
      ]
    },
    {
      "cell_type": "code",
      "execution_count": null,
      "id": "5c39ea4a",
      "metadata": {
        "id": "5c39ea4a",
        "outputId": "3efa5738-5537-4cb1-a6a8-6ad9ea331e60"
      },
      "outputs": [
        {
          "data": {
            "text/plain": [
              "array([50.77048538])"
            ]
          },
          "execution_count": 4,
          "metadata": {},
          "output_type": "execute_result"
        }
      ],
      "source": [
        "mod.intercept_"
      ]
    },
    {
      "cell_type": "code",
      "execution_count": null,
      "id": "27c6521d",
      "metadata": {
        "id": "27c6521d",
        "outputId": "73d3ced5-4275-4306-bae7-4d5654e79f47"
      },
      "outputs": [
        {
          "name": "stderr",
          "output_type": "stream",
          "text": [
            "C:\\Users\\Hp\\anaconda3\\Lib\\site-packages\\sklearn\\utils\\validation.py:2749: UserWarning: X does not have valid feature names, but LinearRegression was fitted with feature names\n",
            "  warnings.warn(\n"
          ]
        },
        {
          "data": {
            "text/plain": [
              "array([[81.85181914]])"
            ]
          },
          "execution_count": 5,
          "metadata": {},
          "output_type": "execute_result"
        }
      ],
      "source": [
        "mod.predict([[8]])"
      ]
    },
    {
      "cell_type": "markdown",
      "id": "e73e09a2",
      "metadata": {
        "id": "e73e09a2"
      },
      "source": [
        "### Code for pycharm"
      ]
    },
    {
      "cell_type": "code",
      "execution_count": null,
      "id": "2c0c40f0",
      "metadata": {
        "id": "2c0c40f0"
      },
      "outputs": [],
      "source": [
        "#pip install pickle-mixin\n",
        "#pip install scikit-learn\n",
        "\n",
        "import pickle\n",
        "\n",
        "with open('model_pickle','rb') as file:\n",
        "    md = pickle.load(file)\n",
        "\n",
        "#print(md.coef_)\n",
        "#print(md.intercept_)\n",
        "print(md.predict([[8]]))"
      ]
    },
    {
      "cell_type": "markdown",
      "id": "c18abeac",
      "metadata": {
        "id": "c18abeac"
      },
      "source": [
        "### Load Joblib saving Model"
      ]
    },
    {
      "cell_type": "code",
      "execution_count": null,
      "id": "83833f1d",
      "metadata": {
        "id": "83833f1d"
      },
      "outputs": [],
      "source": [
        "import joblib\n",
        "mymodel = joblib.load('My_JobModel')"
      ]
    },
    {
      "cell_type": "code",
      "execution_count": null,
      "id": "654e2987",
      "metadata": {
        "id": "654e2987",
        "outputId": "e2bda78f-380a-4e36-9af0-41938c6b6401"
      },
      "outputs": [
        {
          "data": {
            "text/plain": [
              "array([[3.88516672]])"
            ]
          },
          "execution_count": 7,
          "metadata": {},
          "output_type": "execute_result"
        }
      ],
      "source": [
        "mymodel.coef_"
      ]
    },
    {
      "cell_type": "code",
      "execution_count": null,
      "id": "256d8810",
      "metadata": {
        "id": "256d8810",
        "outputId": "0d52181d-9ef4-4ff3-c30d-e697cd357b04"
      },
      "outputs": [
        {
          "data": {
            "text/plain": [
              "array([50.77048538])"
            ]
          },
          "execution_count": 8,
          "metadata": {},
          "output_type": "execute_result"
        }
      ],
      "source": [
        "mymodel.intercept_"
      ]
    },
    {
      "cell_type": "code",
      "execution_count": null,
      "id": "dd93da65",
      "metadata": {
        "id": "dd93da65",
        "outputId": "3f7d45c3-7546-4665-a5ef-6b86509a8ad0"
      },
      "outputs": [
        {
          "name": "stderr",
          "output_type": "stream",
          "text": [
            "C:\\Users\\Hp\\anaconda3\\Lib\\site-packages\\sklearn\\utils\\validation.py:2749: UserWarning: X does not have valid feature names, but LinearRegression was fitted with feature names\n",
            "  warnings.warn(\n"
          ]
        },
        {
          "data": {
            "text/plain": [
              "array([[81.85181914]])"
            ]
          },
          "execution_count": 9,
          "metadata": {},
          "output_type": "execute_result"
        }
      ],
      "source": [
        "mymodel.predict([[8]])"
      ]
    },
    {
      "cell_type": "markdown",
      "id": "75957a82",
      "metadata": {
        "id": "75957a82"
      },
      "source": [
        "### for pycharm"
      ]
    },
    {
      "cell_type": "code",
      "execution_count": null,
      "id": "fdb37e0f",
      "metadata": {
        "id": "fdb37e0f"
      },
      "outputs": [],
      "source": [
        "# pip install joblib\n",
        "\n",
        "# import joblib as jbl\n",
        "# mymodel = jbl.load('My_JobModel')\n",
        "\n",
        "# print(mymodel.coef_)\n",
        "# print(mymodel.intercept_)\n",
        "# print(mymodel.predict([[5000]]))"
      ]
    },
    {
      "cell_type": "code",
      "execution_count": null,
      "id": "3a57f27d",
      "metadata": {
        "id": "3a57f27d"
      },
      "outputs": [],
      "source": []
    }
  ],
  "metadata": {
    "kernelspec": {
      "display_name": "Python 3 (ipykernel)",
      "language": "python",
      "name": "python3"
    },
    "language_info": {
      "codemirror_mode": {
        "name": "ipython",
        "version": 3
      },
      "file_extension": ".py",
      "mimetype": "text/x-python",
      "name": "python",
      "nbconvert_exporter": "python",
      "pygments_lexer": "ipython3",
      "version": "3.11.5"
    },
    "colab": {
      "provenance": [],
      "include_colab_link": true
    }
  },
  "nbformat": 4,
  "nbformat_minor": 5
}