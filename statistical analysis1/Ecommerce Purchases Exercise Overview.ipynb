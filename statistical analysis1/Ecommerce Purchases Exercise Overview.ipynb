{
 "cells": [
  {
   "cell_type": "markdown",
   "id": "2dacf23b",
   "metadata": {},
   "source": [
    "# 1 . Import Pandas and Read the csv file"
   ]
  },
  {
   "cell_type": "code",
   "execution_count": 2,
   "id": "db4f0136",
   "metadata": {},
   "outputs": [],
   "source": [
    "import pandas as pd\n",
    "\n",
    "df = pd.read_csv('/home/catpc/Downloads/Cust_Purch_FakeData - Cust_Purch_FakeData.csv')"
   ]
  },
  {
   "cell_type": "code",
   "execution_count": 3,
   "id": "6cdfceb9",
   "metadata": {},
   "outputs": [
    {
     "data": {
      "text/html": [
       "<div>\n",
       "<style scoped>\n",
       "    .dataframe tbody tr th:only-of-type {\n",
       "        vertical-align: middle;\n",
       "    }\n",
       "\n",
       "    .dataframe tbody tr th {\n",
       "        vertical-align: top;\n",
       "    }\n",
       "\n",
       "    .dataframe thead th {\n",
       "        text-align: right;\n",
       "    }\n",
       "</style>\n",
       "<table border=\"1\" class=\"dataframe\">\n",
       "  <thead>\n",
       "    <tr style=\"text-align: right;\">\n",
       "      <th></th>\n",
       "      <th>prefix</th>\n",
       "      <th>first</th>\n",
       "      <th>last</th>\n",
       "      <th>email</th>\n",
       "      <th>gender</th>\n",
       "      <th>age</th>\n",
       "      <th>company</th>\n",
       "      <th>profession</th>\n",
       "      <th>phone</th>\n",
       "      <th>postal</th>\n",
       "      <th>province</th>\n",
       "      <th>cc_no</th>\n",
       "      <th>cc_exp</th>\n",
       "      <th>cc_type</th>\n",
       "      <th>price(CAD)</th>\n",
       "      <th>fav_color</th>\n",
       "      <th>ip</th>\n",
       "      <th>weekday</th>\n",
       "      <th>ampm</th>\n",
       "      <th>date</th>\n",
       "    </tr>\n",
       "  </thead>\n",
       "  <tbody>\n",
       "    <tr>\n",
       "      <th>0</th>\n",
       "      <td>Dr.</td>\n",
       "      <td>Ray</td>\n",
       "      <td>Morton</td>\n",
       "      <td>sebvajom@kol.km</td>\n",
       "      <td>Male</td>\n",
       "      <td>38</td>\n",
       "      <td>Medtronic Inc.</td>\n",
       "      <td>Health Therapist</td>\n",
       "      <td>(987) 619-2695</td>\n",
       "      <td>B6V 3W3</td>\n",
       "      <td>MB</td>\n",
       "      <td>5.020000e+15</td>\n",
       "      <td>05/2018</td>\n",
       "      <td>Solo</td>\n",
       "      <td>8.36</td>\n",
       "      <td>Blue</td>\n",
       "      <td>126.23.139.2</td>\n",
       "      <td>Sunday</td>\n",
       "      <td>pm</td>\n",
       "      <td>04/05/1930</td>\n",
       "    </tr>\n",
       "    <tr>\n",
       "      <th>1</th>\n",
       "      <td>Miss</td>\n",
       "      <td>Claudia</td>\n",
       "      <td>Rodriquez</td>\n",
       "      <td>acu@jatsot.ug</td>\n",
       "      <td>Female</td>\n",
       "      <td>51</td>\n",
       "      <td>Ames Department Stores, Inc.</td>\n",
       "      <td>Health Therapist</td>\n",
       "      <td>(356) 736-7352</td>\n",
       "      <td>G7M 5F3</td>\n",
       "      <td>SK</td>\n",
       "      <td>5.020000e+15</td>\n",
       "      <td>07/2028</td>\n",
       "      <td>Visa</td>\n",
       "      <td>68.31</td>\n",
       "      <td>Black</td>\n",
       "      <td>106.198.76.211</td>\n",
       "      <td>Tuesday</td>\n",
       "      <td>am</td>\n",
       "      <td>12/20/1926</td>\n",
       "    </tr>\n",
       "    <tr>\n",
       "      <th>2</th>\n",
       "      <td>Miss</td>\n",
       "      <td>Harry</td>\n",
       "      <td>Meyer</td>\n",
       "      <td>zuz@lo.wf</td>\n",
       "      <td>Female</td>\n",
       "      <td>51</td>\n",
       "      <td>CSX Corp.</td>\n",
       "      <td>Political Scientist</td>\n",
       "      <td>(539) 246-1806</td>\n",
       "      <td>A0Z 6P9</td>\n",
       "      <td>NS</td>\n",
       "      <td>6.300000e+15</td>\n",
       "      <td>02/2023</td>\n",
       "      <td>Switch</td>\n",
       "      <td>34.65</td>\n",
       "      <td>Black</td>\n",
       "      <td>186.150.187.29</td>\n",
       "      <td>Wednesday</td>\n",
       "      <td>pm</td>\n",
       "      <td>08/20/1931</td>\n",
       "    </tr>\n",
       "    <tr>\n",
       "      <th>3</th>\n",
       "      <td>Miss</td>\n",
       "      <td>Edith</td>\n",
       "      <td>Gilbert</td>\n",
       "      <td>hansohsi@jupec.md</td>\n",
       "      <td>Female</td>\n",
       "      <td>55</td>\n",
       "      <td>Murphy Oil Corporation</td>\n",
       "      <td>Transportation Manager</td>\n",
       "      <td>(984) 962-7494</td>\n",
       "      <td>P9I 9H3</td>\n",
       "      <td>YT</td>\n",
       "      <td>3.530000e+15</td>\n",
       "      <td>02/2028</td>\n",
       "      <td>Maestro</td>\n",
       "      <td>64.59</td>\n",
       "      <td>White</td>\n",
       "      <td>80.140.57.161</td>\n",
       "      <td>Saturday</td>\n",
       "      <td>am</td>\n",
       "      <td>06/18/2001</td>\n",
       "    </tr>\n",
       "    <tr>\n",
       "      <th>4</th>\n",
       "      <td>Dr.</td>\n",
       "      <td>Lura</td>\n",
       "      <td>Murphy</td>\n",
       "      <td>webediti@je.st</td>\n",
       "      <td>Female</td>\n",
       "      <td>20</td>\n",
       "      <td>PETsMART Inc</td>\n",
       "      <td>Statistician</td>\n",
       "      <td>(902) 568-9748</td>\n",
       "      <td>S1A 6K0</td>\n",
       "      <td>ON</td>\n",
       "      <td>4.030000e+15</td>\n",
       "      <td>10/2025</td>\n",
       "      <td>Diners Club International</td>\n",
       "      <td>20.83</td>\n",
       "      <td>Yellow</td>\n",
       "      <td>211.103.43.41</td>\n",
       "      <td>Friday</td>\n",
       "      <td>pm</td>\n",
       "      <td>06/14/2045</td>\n",
       "    </tr>\n",
       "  </tbody>\n",
       "</table>\n",
       "</div>"
      ],
      "text/plain": [
       "  prefix    first       last              email  gender  age  \\\n",
       "0    Dr.      Ray     Morton    sebvajom@kol.km    Male   38   \n",
       "1   Miss  Claudia  Rodriquez      acu@jatsot.ug  Female   51   \n",
       "2   Miss    Harry      Meyer          zuz@lo.wf  Female   51   \n",
       "3   Miss    Edith    Gilbert  hansohsi@jupec.md  Female   55   \n",
       "4    Dr.     Lura     Murphy     webediti@je.st  Female   20   \n",
       "\n",
       "                        company              profession           phone  \\\n",
       "0                Medtronic Inc.        Health Therapist  (987) 619-2695   \n",
       "1  Ames Department Stores, Inc.        Health Therapist  (356) 736-7352   \n",
       "2                     CSX Corp.     Political Scientist  (539) 246-1806   \n",
       "3        Murphy Oil Corporation  Transportation Manager  (984) 962-7494   \n",
       "4                  PETsMART Inc            Statistician  (902) 568-9748   \n",
       "\n",
       "    postal province         cc_no   cc_exp                    cc_type  \\\n",
       "0  B6V 3W3       MB  5.020000e+15  05/2018                       Solo   \n",
       "1  G7M 5F3       SK  5.020000e+15  07/2028                       Visa   \n",
       "2  A0Z 6P9       NS  6.300000e+15  02/2023                     Switch   \n",
       "3  P9I 9H3       YT  3.530000e+15  02/2028                    Maestro   \n",
       "4  S1A 6K0       ON  4.030000e+15  10/2025  Diners Club International   \n",
       "\n",
       "   price(CAD) fav_color              ip    weekday ampm        date  \n",
       "0        8.36      Blue    126.23.139.2     Sunday   pm  04/05/1930  \n",
       "1       68.31     Black  106.198.76.211    Tuesday   am  12/20/1926  \n",
       "2       34.65     Black  186.150.187.29  Wednesday   pm  08/20/1931  \n",
       "3       64.59     White   80.140.57.161   Saturday   am  06/18/2001  \n",
       "4       20.83    Yellow   211.103.43.41     Friday   pm  06/14/2045  "
      ]
     },
     "execution_count": 3,
     "metadata": {},
     "output_type": "execute_result"
    }
   ],
   "source": [
    "df.head()"
   ]
  },
  {
   "cell_type": "markdown",
   "id": "479f3992",
   "metadata": {},
   "source": [
    "# 3. How many entries your data have? Can you tell the no. of columns in your data?\n"
   ]
  },
  {
   "cell_type": "code",
   "execution_count": 4,
   "id": "21b7d091",
   "metadata": {},
   "outputs": [
    {
     "name": "stdout",
     "output_type": "stream",
     "text": [
      "<class 'pandas.core.frame.DataFrame'>\n",
      "RangeIndex: 30000 entries, 0 to 29999\n",
      "Data columns (total 20 columns):\n",
      " #   Column      Non-Null Count  Dtype  \n",
      "---  ------      --------------  -----  \n",
      " 0   prefix      30000 non-null  object \n",
      " 1   first       30000 non-null  object \n",
      " 2   last        30000 non-null  object \n",
      " 3   email       30000 non-null  object \n",
      " 4   gender      30000 non-null  object \n",
      " 5   age         30000 non-null  int64  \n",
      " 6   company     30000 non-null  object \n",
      " 7   profession  30000 non-null  object \n",
      " 8   phone       30000 non-null  object \n",
      " 9   postal      30000 non-null  object \n",
      " 10  province    30000 non-null  object \n",
      " 11  cc_no       30000 non-null  float64\n",
      " 12  cc_exp      30000 non-null  object \n",
      " 13  cc_type     30000 non-null  object \n",
      " 14  price(CAD)  30000 non-null  float64\n",
      " 15  fav_color   30000 non-null  object \n",
      " 16  ip          30000 non-null  object \n",
      " 17  weekday     30000 non-null  object \n",
      " 18  ampm        30000 non-null  object \n",
      " 19  date        30000 non-null  object \n",
      "dtypes: float64(2), int64(1), object(17)\n",
      "memory usage: 4.6+ MB\n"
     ]
    }
   ],
   "source": [
    "df.info()"
   ]
  },
  {
   "cell_type": "markdown",
   "id": "e0664a5d",
   "metadata": {},
   "source": [
    "# 4. what are the max and min ages of your customer? Can you find mean of our customer?"
   ]
  },
  {
   "cell_type": "code",
   "execution_count": 6,
   "id": "5ed23f13",
   "metadata": {},
   "outputs": [
    {
     "data": {
      "text/plain": [
       "65"
      ]
     },
     "execution_count": 6,
     "metadata": {},
     "output_type": "execute_result"
    }
   ],
   "source": [
    "df['age'].max()"
   ]
  },
  {
   "cell_type": "code",
   "execution_count": 7,
   "id": "9012b89c",
   "metadata": {},
   "outputs": [
    {
     "data": {
      "text/plain": [
       "18"
      ]
     },
     "execution_count": 7,
     "metadata": {},
     "output_type": "execute_result"
    }
   ],
   "source": [
    "df['age'].min()"
   ]
  },
  {
   "cell_type": "code",
   "execution_count": 8,
   "id": "538a0b58",
   "metadata": {},
   "outputs": [
    {
     "data": {
      "text/plain": [
       "41.550066666666666"
      ]
     },
     "execution_count": 8,
     "metadata": {},
     "output_type": "execute_result"
    }
   ],
   "source": [
    "df['age'].mean()"
   ]
  },
  {
   "cell_type": "markdown",
   "id": "0a5c6e55",
   "metadata": {},
   "source": [
    "# 5. What are the most common customers names?"
   ]
  },
  {
   "cell_type": "code",
   "execution_count": 11,
   "id": "be9ced47",
   "metadata": {},
   "outputs": [
    {
     "data": {
      "text/plain": [
       "first\n",
       "Willie    130\n",
       "Name: count, dtype: int64"
      ]
     },
     "execution_count": 11,
     "metadata": {},
     "output_type": "execute_result"
    }
   ],
   "source": [
    "df['first'].value_counts().head(1)"
   ]
  },
  {
   "cell_type": "markdown",
   "id": "8dcc9688",
   "metadata": {},
   "source": [
    "# 6. Two customers have the same phone number, can you find those customers?"
   ]
  },
  {
   "cell_type": "code",
   "execution_count": 15,
   "id": "9bf35661",
   "metadata": {},
   "outputs": [
    {
     "data": {
      "text/html": [
       "<div>\n",
       "<style scoped>\n",
       "    .dataframe tbody tr th:only-of-type {\n",
       "        vertical-align: middle;\n",
       "    }\n",
       "\n",
       "    .dataframe tbody tr th {\n",
       "        vertical-align: top;\n",
       "    }\n",
       "\n",
       "    .dataframe thead th {\n",
       "        text-align: right;\n",
       "    }\n",
       "</style>\n",
       "<table border=\"1\" class=\"dataframe\">\n",
       "  <thead>\n",
       "    <tr style=\"text-align: right;\">\n",
       "      <th></th>\n",
       "      <th>prefix</th>\n",
       "      <th>first</th>\n",
       "      <th>last</th>\n",
       "      <th>email</th>\n",
       "      <th>gender</th>\n",
       "      <th>age</th>\n",
       "      <th>company</th>\n",
       "      <th>profession</th>\n",
       "      <th>phone</th>\n",
       "      <th>postal</th>\n",
       "      <th>province</th>\n",
       "      <th>cc_no</th>\n",
       "      <th>cc_exp</th>\n",
       "      <th>cc_type</th>\n",
       "      <th>price(CAD)</th>\n",
       "      <th>fav_color</th>\n",
       "      <th>ip</th>\n",
       "      <th>weekday</th>\n",
       "      <th>ampm</th>\n",
       "      <th>date</th>\n",
       "    </tr>\n",
       "  </thead>\n",
       "  <tbody>\n",
       "    <tr>\n",
       "      <th>0</th>\n",
       "      <td>Dr.</td>\n",
       "      <td>Ray</td>\n",
       "      <td>Morton</td>\n",
       "      <td>sebvajom@kol.km</td>\n",
       "      <td>Male</td>\n",
       "      <td>38</td>\n",
       "      <td>Medtronic Inc.</td>\n",
       "      <td>Health Therapist</td>\n",
       "      <td>(987) 619-2695</td>\n",
       "      <td>B6V 3W3</td>\n",
       "      <td>MB</td>\n",
       "      <td>5.020000e+15</td>\n",
       "      <td>05/2018</td>\n",
       "      <td>Solo</td>\n",
       "      <td>8.36</td>\n",
       "      <td>Blue</td>\n",
       "      <td>126.23.139.2</td>\n",
       "      <td>Sunday</td>\n",
       "      <td>pm</td>\n",
       "      <td>04/05/1930</td>\n",
       "    </tr>\n",
       "    <tr>\n",
       "      <th>1</th>\n",
       "      <td>Miss</td>\n",
       "      <td>Claudia</td>\n",
       "      <td>Rodriquez</td>\n",
       "      <td>acu@jatsot.ug</td>\n",
       "      <td>Female</td>\n",
       "      <td>51</td>\n",
       "      <td>Ames Department Stores, Inc.</td>\n",
       "      <td>Health Therapist</td>\n",
       "      <td>(356) 736-7352</td>\n",
       "      <td>G7M 5F3</td>\n",
       "      <td>SK</td>\n",
       "      <td>5.020000e+15</td>\n",
       "      <td>07/2028</td>\n",
       "      <td>Visa</td>\n",
       "      <td>68.31</td>\n",
       "      <td>Black</td>\n",
       "      <td>106.198.76.211</td>\n",
       "      <td>Tuesday</td>\n",
       "      <td>am</td>\n",
       "      <td>12/20/1926</td>\n",
       "    </tr>\n",
       "    <tr>\n",
       "      <th>2</th>\n",
       "      <td>Miss</td>\n",
       "      <td>Harry</td>\n",
       "      <td>Meyer</td>\n",
       "      <td>zuz@lo.wf</td>\n",
       "      <td>Female</td>\n",
       "      <td>51</td>\n",
       "      <td>CSX Corp.</td>\n",
       "      <td>Political Scientist</td>\n",
       "      <td>(539) 246-1806</td>\n",
       "      <td>A0Z 6P9</td>\n",
       "      <td>NS</td>\n",
       "      <td>6.300000e+15</td>\n",
       "      <td>02/2023</td>\n",
       "      <td>Switch</td>\n",
       "      <td>34.65</td>\n",
       "      <td>Black</td>\n",
       "      <td>186.150.187.29</td>\n",
       "      <td>Wednesday</td>\n",
       "      <td>pm</td>\n",
       "      <td>08/20/1931</td>\n",
       "    </tr>\n",
       "    <tr>\n",
       "      <th>3</th>\n",
       "      <td>Miss</td>\n",
       "      <td>Edith</td>\n",
       "      <td>Gilbert</td>\n",
       "      <td>hansohsi@jupec.md</td>\n",
       "      <td>Female</td>\n",
       "      <td>55</td>\n",
       "      <td>Murphy Oil Corporation</td>\n",
       "      <td>Transportation Manager</td>\n",
       "      <td>(984) 962-7494</td>\n",
       "      <td>P9I 9H3</td>\n",
       "      <td>YT</td>\n",
       "      <td>3.530000e+15</td>\n",
       "      <td>02/2028</td>\n",
       "      <td>Maestro</td>\n",
       "      <td>64.59</td>\n",
       "      <td>White</td>\n",
       "      <td>80.140.57.161</td>\n",
       "      <td>Saturday</td>\n",
       "      <td>am</td>\n",
       "      <td>06/18/2001</td>\n",
       "    </tr>\n",
       "    <tr>\n",
       "      <th>4</th>\n",
       "      <td>Dr.</td>\n",
       "      <td>Lura</td>\n",
       "      <td>Murphy</td>\n",
       "      <td>webediti@je.st</td>\n",
       "      <td>Female</td>\n",
       "      <td>20</td>\n",
       "      <td>PETsMART Inc</td>\n",
       "      <td>Statistician</td>\n",
       "      <td>(902) 568-9748</td>\n",
       "      <td>S1A 6K0</td>\n",
       "      <td>ON</td>\n",
       "      <td>4.030000e+15</td>\n",
       "      <td>10/2025</td>\n",
       "      <td>Diners Club International</td>\n",
       "      <td>20.83</td>\n",
       "      <td>Yellow</td>\n",
       "      <td>211.103.43.41</td>\n",
       "      <td>Friday</td>\n",
       "      <td>pm</td>\n",
       "      <td>06/14/2045</td>\n",
       "    </tr>\n",
       "  </tbody>\n",
       "</table>\n",
       "</div>"
      ],
      "text/plain": [
       "  prefix    first       last              email  gender  age  \\\n",
       "0    Dr.      Ray     Morton    sebvajom@kol.km    Male   38   \n",
       "1   Miss  Claudia  Rodriquez      acu@jatsot.ug  Female   51   \n",
       "2   Miss    Harry      Meyer          zuz@lo.wf  Female   51   \n",
       "3   Miss    Edith    Gilbert  hansohsi@jupec.md  Female   55   \n",
       "4    Dr.     Lura     Murphy     webediti@je.st  Female   20   \n",
       "\n",
       "                        company              profession           phone  \\\n",
       "0                Medtronic Inc.        Health Therapist  (987) 619-2695   \n",
       "1  Ames Department Stores, Inc.        Health Therapist  (356) 736-7352   \n",
       "2                     CSX Corp.     Political Scientist  (539) 246-1806   \n",
       "3        Murphy Oil Corporation  Transportation Manager  (984) 962-7494   \n",
       "4                  PETsMART Inc            Statistician  (902) 568-9748   \n",
       "\n",
       "    postal province         cc_no   cc_exp                    cc_type  \\\n",
       "0  B6V 3W3       MB  5.020000e+15  05/2018                       Solo   \n",
       "1  G7M 5F3       SK  5.020000e+15  07/2028                       Visa   \n",
       "2  A0Z 6P9       NS  6.300000e+15  02/2023                     Switch   \n",
       "3  P9I 9H3       YT  3.530000e+15  02/2028                    Maestro   \n",
       "4  S1A 6K0       ON  4.030000e+15  10/2025  Diners Club International   \n",
       "\n",
       "   price(CAD) fav_color              ip    weekday ampm        date  \n",
       "0        8.36      Blue    126.23.139.2     Sunday   pm  04/05/1930  \n",
       "1       68.31     Black  106.198.76.211    Tuesday   am  12/20/1926  \n",
       "2       34.65     Black  186.150.187.29  Wednesday   pm  08/20/1931  \n",
       "3       64.59     White   80.140.57.161   Saturday   am  06/18/2001  \n",
       "4       20.83    Yellow   211.103.43.41     Friday   pm  06/14/2045  "
      ]
     },
     "execution_count": 15,
     "metadata": {},
     "output_type": "execute_result"
    }
   ],
   "source": [
    "df.head()"
   ]
  },
  {
   "cell_type": "code",
   "execution_count": 18,
   "id": "9728d0e5",
   "metadata": {},
   "outputs": [
    {
     "data": {
      "text/plain": [
       "0        (987) 619-2695\n",
       "1        (356) 736-7352\n",
       "2        (539) 246-1806\n",
       "3        (984) 962-7494\n",
       "4        (902) 568-9748\n",
       "              ...      \n",
       "29995    (873) 298-1178\n",
       "29996    (541) 904-3323\n",
       "29997    (375) 931-8605\n",
       "29998    (786) 481-9627\n",
       "29999    (841) 962-4087\n",
       "Name: phone, Length: 30000, dtype: object"
      ]
     },
     "execution_count": 18,
     "metadata": {},
     "output_type": "execute_result"
    }
   ],
   "source": [
    "df['phone']"
   ]
  },
  {
   "cell_type": "code",
   "execution_count": 47,
   "id": "068dec6e",
   "metadata": {},
   "outputs": [
    {
     "data": {
      "text/plain": [
       "phone\n",
       "(263) 382-8004    2\n",
       "Name: count, dtype: int64"
      ]
     },
     "execution_count": 47,
     "metadata": {},
     "output_type": "execute_result"
    }
   ],
   "source": [
    "pcnt = df['phone'].value_counts()\n",
    "pcnt = pcnt[pcnt > 1]\n",
    "pcnt"
   ]
  },
  {
   "cell_type": "code",
   "execution_count": 50,
   "id": "347d2f6f",
   "metadata": {},
   "outputs": [
    {
     "data": {
      "text/html": [
       "<div>\n",
       "<style scoped>\n",
       "    .dataframe tbody tr th:only-of-type {\n",
       "        vertical-align: middle;\n",
       "    }\n",
       "\n",
       "    .dataframe tbody tr th {\n",
       "        vertical-align: top;\n",
       "    }\n",
       "\n",
       "    .dataframe thead th {\n",
       "        text-align: right;\n",
       "    }\n",
       "</style>\n",
       "<table border=\"1\" class=\"dataframe\">\n",
       "  <thead>\n",
       "    <tr style=\"text-align: right;\">\n",
       "      <th></th>\n",
       "      <th>first</th>\n",
       "    </tr>\n",
       "  </thead>\n",
       "  <tbody>\n",
       "    <tr>\n",
       "      <th>15</th>\n",
       "      <td>Lilly</td>\n",
       "    </tr>\n",
       "    <tr>\n",
       "      <th>16</th>\n",
       "      <td>Peter</td>\n",
       "    </tr>\n",
       "  </tbody>\n",
       "</table>\n",
       "</div>"
      ],
      "text/plain": [
       "    first\n",
       "15  Lilly\n",
       "16  Peter"
      ]
     },
     "execution_count": 50,
     "metadata": {},
     "output_type": "execute_result"
    }
   ],
   "source": [
    "df[df['phone']==\"(263) 382-8004\"][['first']]"
   ]
  },
  {
   "cell_type": "code",
   "execution_count": 56,
   "id": "92cdfa1e",
   "metadata": {},
   "outputs": [
    {
     "name": "stdout",
     "output_type": "stream",
     "text": [
      "phone    (263) 382-8004\n",
      "Name: 15, dtype: object\n",
      "\n",
      "\n"
     ]
    },
    {
     "data": {
      "text/plain": [
       "phone    (263) 382-8004\n",
       "Name: 16, dtype: object"
      ]
     },
     "execution_count": 56,
     "metadata": {},
     "output_type": "execute_result"
    }
   ],
   "source": [
    "print(df.iloc[15][['phone']])\n",
    "print(\"\\n\")\n",
    "df.iloc[16][['phone']]"
   ]
  },
  {
   "cell_type": "markdown",
   "id": "e6561a2e",
   "metadata": {},
   "source": [
    "# 7.How many customers have profession \"Structural Engineer\""
   ]
  },
  {
   "cell_type": "code",
   "execution_count": 60,
   "id": "a718301b",
   "metadata": {},
   "outputs": [
    {
     "name": "stdout",
     "output_type": "stream",
     "text": [
      "<class 'pandas.core.frame.DataFrame'>\n",
      "RangeIndex: 30000 entries, 0 to 29999\n",
      "Data columns (total 20 columns):\n",
      " #   Column      Non-Null Count  Dtype  \n",
      "---  ------      --------------  -----  \n",
      " 0   prefix      30000 non-null  object \n",
      " 1   first       30000 non-null  object \n",
      " 2   last        30000 non-null  object \n",
      " 3   email       30000 non-null  object \n",
      " 4   gender      30000 non-null  object \n",
      " 5   age         30000 non-null  int64  \n",
      " 6   company     30000 non-null  object \n",
      " 7   profession  30000 non-null  object \n",
      " 8   phone       30000 non-null  object \n",
      " 9   postal      30000 non-null  object \n",
      " 10  province    30000 non-null  object \n",
      " 11  cc_no       30000 non-null  float64\n",
      " 12  cc_exp      30000 non-null  object \n",
      " 13  cc_type     30000 non-null  object \n",
      " 14  price(CAD)  30000 non-null  float64\n",
      " 15  fav_color   30000 non-null  object \n",
      " 16  ip          30000 non-null  object \n",
      " 17  weekday     30000 non-null  object \n",
      " 18  ampm        30000 non-null  object \n",
      " 19  date        30000 non-null  object \n",
      "dtypes: float64(2), int64(1), object(17)\n",
      "memory usage: 4.6+ MB\n"
     ]
    }
   ],
   "source": [
    "df.info()"
   ]
  },
  {
   "cell_type": "code",
   "execution_count": 66,
   "id": "dd6a7b52",
   "metadata": {},
   "outputs": [
    {
     "data": {
      "text/plain": [
       "prefix        87\n",
       "first         87\n",
       "last          87\n",
       "email         87\n",
       "gender        87\n",
       "age           87\n",
       "company       87\n",
       "profession    87\n",
       "phone         87\n",
       "postal        87\n",
       "province      87\n",
       "cc_no         87\n",
       "cc_exp        87\n",
       "cc_type       87\n",
       "price(CAD)    87\n",
       "fav_color     87\n",
       "ip            87\n",
       "weekday       87\n",
       "ampm          87\n",
       "date          87\n",
       "dtype: int64"
      ]
     },
     "execution_count": 66,
     "metadata": {},
     "output_type": "execute_result"
    }
   ],
   "source": [
    "df[df['profession']=='Structural Engineer'].count()"
   ]
  },
  {
   "cell_type": "markdown",
   "id": "2c780d9f",
   "metadata": {},
   "source": [
    "# 8 . How many male  customers are Strucutual Engineer?"
   ]
  },
  {
   "cell_type": "code",
   "execution_count": 74,
   "id": "10bd5e18",
   "metadata": {},
   "outputs": [
    {
     "data": {
      "text/plain": [
       "prefix        43\n",
       "first         43\n",
       "last          43\n",
       "email         43\n",
       "gender        43\n",
       "age           43\n",
       "company       43\n",
       "profession    43\n",
       "phone         43\n",
       "postal        43\n",
       "province      43\n",
       "cc_no         43\n",
       "cc_exp        43\n",
       "cc_type       43\n",
       "price(CAD)    43\n",
       "fav_color     43\n",
       "ip            43\n",
       "weekday       43\n",
       "ampm          43\n",
       "date          43\n",
       "dtype: int64"
      ]
     },
     "execution_count": 74,
     "metadata": {},
     "output_type": "execute_result"
    }
   ],
   "source": [
    "df[(df['profession']=='Structural Engineer') & (df['gender']=='Male')].count()"
   ]
  },
  {
   "cell_type": "markdown",
   "id": "69584329",
   "metadata": {},
   "source": [
    "# 9. Find out the female Structural Engineers from province Alberta (AB)?"
   ]
  },
  {
   "cell_type": "code",
   "execution_count": 96,
   "id": "3af58695",
   "metadata": {},
   "outputs": [
    {
     "data": {
      "text/html": [
       "<div>\n",
       "<style scoped>\n",
       "    .dataframe tbody tr th:only-of-type {\n",
       "        vertical-align: middle;\n",
       "    }\n",
       "\n",
       "    .dataframe tbody tr th {\n",
       "        vertical-align: top;\n",
       "    }\n",
       "\n",
       "    .dataframe thead th {\n",
       "        text-align: right;\n",
       "    }\n",
       "</style>\n",
       "<table border=\"1\" class=\"dataframe\">\n",
       "  <thead>\n",
       "    <tr style=\"text-align: right;\">\n",
       "      <th></th>\n",
       "      <th>prefix</th>\n",
       "      <th>first</th>\n",
       "      <th>last</th>\n",
       "      <th>email</th>\n",
       "      <th>gender</th>\n",
       "      <th>age</th>\n",
       "      <th>company</th>\n",
       "      <th>profession</th>\n",
       "      <th>phone</th>\n",
       "      <th>postal</th>\n",
       "      <th>...</th>\n",
       "      <th>cc_no</th>\n",
       "      <th>cc_exp</th>\n",
       "      <th>cc_type</th>\n",
       "      <th>price(CAD)</th>\n",
       "      <th>fav_color</th>\n",
       "      <th>ip</th>\n",
       "      <th>weekday</th>\n",
       "      <th>ampm</th>\n",
       "      <th>date</th>\n",
       "      <th>cc_str</th>\n",
       "    </tr>\n",
       "  </thead>\n",
       "  <tbody>\n",
       "    <tr>\n",
       "      <th>8858</th>\n",
       "      <td>Dr.</td>\n",
       "      <td>Roy</td>\n",
       "      <td>Stanley</td>\n",
       "      <td>apiunvo@ehasom.ir</td>\n",
       "      <td>Female</td>\n",
       "      <td>39</td>\n",
       "      <td>Cincinnati Financial Corp.</td>\n",
       "      <td>Structural Engineer</td>\n",
       "      <td>(876) 758-2929</td>\n",
       "      <td>N5A 6L2</td>\n",
       "      <td>...</td>\n",
       "      <td>6.300000e+15</td>\n",
       "      <td>02/2022</td>\n",
       "      <td>InstaPayment</td>\n",
       "      <td>31.86</td>\n",
       "      <td>Red</td>\n",
       "      <td>165.249.159.57</td>\n",
       "      <td>Sunday</td>\n",
       "      <td>pm</td>\n",
       "      <td>12/25/1903</td>\n",
       "      <td>6300000000000000</td>\n",
       "    </tr>\n",
       "    <tr>\n",
       "      <th>9058</th>\n",
       "      <td>Mr.</td>\n",
       "      <td>Lora</td>\n",
       "      <td>Kennedy</td>\n",
       "      <td>dennap@rabac.se</td>\n",
       "      <td>Female</td>\n",
       "      <td>51</td>\n",
       "      <td>BJ Services Company</td>\n",
       "      <td>Structural Engineer</td>\n",
       "      <td>(305) 786-6959</td>\n",
       "      <td>N3R 4B7</td>\n",
       "      <td>...</td>\n",
       "      <td>2.010000e+14</td>\n",
       "      <td>06/2019</td>\n",
       "      <td>Diners Club United States &amp; Canada</td>\n",
       "      <td>53.29</td>\n",
       "      <td>Black</td>\n",
       "      <td>42.216.243.206</td>\n",
       "      <td>Thursday</td>\n",
       "      <td>pm</td>\n",
       "      <td>06/06/2028</td>\n",
       "      <td>0201000000000000</td>\n",
       "    </tr>\n",
       "    <tr>\n",
       "      <th>24736</th>\n",
       "      <td>Mrs.</td>\n",
       "      <td>Nell</td>\n",
       "      <td>Richards</td>\n",
       "      <td>dob@me.ki</td>\n",
       "      <td>Female</td>\n",
       "      <td>18</td>\n",
       "      <td>Telephone &amp; Data Systems Inc</td>\n",
       "      <td>Structural Engineer</td>\n",
       "      <td>(262) 681-5018</td>\n",
       "      <td>N3Y 3G2</td>\n",
       "      <td>...</td>\n",
       "      <td>3.470000e+14</td>\n",
       "      <td>07/2028</td>\n",
       "      <td>American Express</td>\n",
       "      <td>76.28</td>\n",
       "      <td>Blue</td>\n",
       "      <td>91.16.30.156</td>\n",
       "      <td>Wednesday</td>\n",
       "      <td>pm</td>\n",
       "      <td>07/14/1951</td>\n",
       "      <td>0347000000000000</td>\n",
       "    </tr>\n",
       "    <tr>\n",
       "      <th>29865</th>\n",
       "      <td>Mrs.</td>\n",
       "      <td>Don</td>\n",
       "      <td>McDaniel</td>\n",
       "      <td>naf@zudu.bj</td>\n",
       "      <td>Female</td>\n",
       "      <td>37</td>\n",
       "      <td>Anadarko Petroleum Corporation</td>\n",
       "      <td>Structural Engineer</td>\n",
       "      <td>(238) 789-2825</td>\n",
       "      <td>B4A 8Q9</td>\n",
       "      <td>...</td>\n",
       "      <td>5.610000e+15</td>\n",
       "      <td>12/2022</td>\n",
       "      <td>Mastercard</td>\n",
       "      <td>62.71</td>\n",
       "      <td>Blue</td>\n",
       "      <td>162.233.117.142</td>\n",
       "      <td>Sunday</td>\n",
       "      <td>pm</td>\n",
       "      <td>11/03/1989</td>\n",
       "      <td>5610000000000000</td>\n",
       "    </tr>\n",
       "  </tbody>\n",
       "</table>\n",
       "<p>4 rows × 21 columns</p>\n",
       "</div>"
      ],
      "text/plain": [
       "      prefix first      last              email  gender  age  \\\n",
       "8858     Dr.   Roy   Stanley  apiunvo@ehasom.ir  Female   39   \n",
       "9058     Mr.  Lora   Kennedy    dennap@rabac.se  Female   51   \n",
       "24736   Mrs.  Nell  Richards          dob@me.ki  Female   18   \n",
       "29865   Mrs.   Don  McDaniel        naf@zudu.bj  Female   37   \n",
       "\n",
       "                              company           profession           phone  \\\n",
       "8858       Cincinnati Financial Corp.  Structural Engineer  (876) 758-2929   \n",
       "9058              BJ Services Company  Structural Engineer  (305) 786-6959   \n",
       "24736    Telephone & Data Systems Inc  Structural Engineer  (262) 681-5018   \n",
       "29865  Anadarko Petroleum Corporation  Structural Engineer  (238) 789-2825   \n",
       "\n",
       "        postal  ...         cc_no   cc_exp  \\\n",
       "8858   N5A 6L2  ...  6.300000e+15  02/2022   \n",
       "9058   N3R 4B7  ...  2.010000e+14  06/2019   \n",
       "24736  N3Y 3G2  ...  3.470000e+14  07/2028   \n",
       "29865  B4A 8Q9  ...  5.610000e+15  12/2022   \n",
       "\n",
       "                                  cc_type price(CAD)  fav_color  \\\n",
       "8858                         InstaPayment      31.86        Red   \n",
       "9058   Diners Club United States & Canada      53.29      Black   \n",
       "24736                    American Express      76.28       Blue   \n",
       "29865                          Mastercard      62.71       Blue   \n",
       "\n",
       "                    ip    weekday ampm        date            cc_str  \n",
       "8858    165.249.159.57     Sunday   pm  12/25/1903  6300000000000000  \n",
       "9058    42.216.243.206   Thursday   pm  06/06/2028  0201000000000000  \n",
       "24736     91.16.30.156  Wednesday   pm  07/14/1951  0347000000000000  \n",
       "29865  162.233.117.142     Sunday   pm  11/03/1989  5610000000000000  \n",
       "\n",
       "[4 rows x 21 columns]"
      ]
     },
     "execution_count": 96,
     "metadata": {},
     "output_type": "execute_result"
    }
   ],
   "source": [
    "df[(df['profession']=='Structural Engineer') & (df['gender']=='Female') & (df['province']=='AB')]"
   ]
  },
  {
   "cell_type": "markdown",
   "id": "ac79ea83",
   "metadata": {},
   "source": [
    "# 10. What is the max, min and average spending?"
   ]
  },
  {
   "cell_type": "code",
   "execution_count": 79,
   "id": "a7a86b07",
   "metadata": {},
   "outputs": [
    {
     "name": "stdout",
     "output_type": "stream",
     "text": [
      "<class 'pandas.core.frame.DataFrame'>\n",
      "RangeIndex: 30000 entries, 0 to 29999\n",
      "Data columns (total 20 columns):\n",
      " #   Column      Non-Null Count  Dtype  \n",
      "---  ------      --------------  -----  \n",
      " 0   prefix      30000 non-null  object \n",
      " 1   first       30000 non-null  object \n",
      " 2   last        30000 non-null  object \n",
      " 3   email       30000 non-null  object \n",
      " 4   gender      30000 non-null  object \n",
      " 5   age         30000 non-null  int64  \n",
      " 6   company     30000 non-null  object \n",
      " 7   profession  30000 non-null  object \n",
      " 8   phone       30000 non-null  object \n",
      " 9   postal      30000 non-null  object \n",
      " 10  province    30000 non-null  object \n",
      " 11  cc_no       30000 non-null  float64\n",
      " 12  cc_exp      30000 non-null  object \n",
      " 13  cc_type     30000 non-null  object \n",
      " 14  price(CAD)  30000 non-null  float64\n",
      " 15  fav_color   30000 non-null  object \n",
      " 16  ip          30000 non-null  object \n",
      " 17  weekday     30000 non-null  object \n",
      " 18  ampm        30000 non-null  object \n",
      " 19  date        30000 non-null  object \n",
      "dtypes: float64(2), int64(1), object(17)\n",
      "memory usage: 4.6+ MB\n"
     ]
    }
   ],
   "source": [
    "df.info()"
   ]
  },
  {
   "cell_type": "code",
   "execution_count": 82,
   "id": "4ee4fd58",
   "metadata": {},
   "outputs": [
    {
     "data": {
      "text/plain": [
       "100.0"
      ]
     },
     "execution_count": 82,
     "metadata": {},
     "output_type": "execute_result"
    }
   ],
   "source": [
    "df['price(CAD)'].max()"
   ]
  },
  {
   "cell_type": "code",
   "execution_count": 83,
   "id": "a0b7f24d",
   "metadata": {},
   "outputs": [
    {
     "data": {
      "text/plain": [
       "0.0"
      ]
     },
     "execution_count": 83,
     "metadata": {},
     "output_type": "execute_result"
    }
   ],
   "source": [
    "df['price(CAD)'].min()"
   ]
  },
  {
   "cell_type": "code",
   "execution_count": 84,
   "id": "595b86c4",
   "metadata": {},
   "outputs": [
    {
     "data": {
      "text/plain": [
       "49.990775"
      ]
     },
     "execution_count": 84,
     "metadata": {},
     "output_type": "execute_result"
    }
   ],
   "source": [
    "df['price(CAD)'].mean()"
   ]
  },
  {
   "cell_type": "markdown",
   "id": "b6a314e6",
   "metadata": {},
   "source": [
    "# 11. Who did not spend anything? Company wants to send a deal to encourage the customer to buy stuff!"
   ]
  },
  {
   "cell_type": "code",
   "execution_count": 85,
   "id": "d5c38879",
   "metadata": {},
   "outputs": [
    {
     "data": {
      "text/html": [
       "<div>\n",
       "<style scoped>\n",
       "    .dataframe tbody tr th:only-of-type {\n",
       "        vertical-align: middle;\n",
       "    }\n",
       "\n",
       "    .dataframe tbody tr th {\n",
       "        vertical-align: top;\n",
       "    }\n",
       "\n",
       "    .dataframe thead th {\n",
       "        text-align: right;\n",
       "    }\n",
       "</style>\n",
       "<table border=\"1\" class=\"dataframe\">\n",
       "  <thead>\n",
       "    <tr style=\"text-align: right;\">\n",
       "      <th></th>\n",
       "      <th>prefix</th>\n",
       "      <th>first</th>\n",
       "      <th>last</th>\n",
       "      <th>email</th>\n",
       "      <th>gender</th>\n",
       "      <th>age</th>\n",
       "      <th>company</th>\n",
       "      <th>profession</th>\n",
       "      <th>phone</th>\n",
       "      <th>postal</th>\n",
       "      <th>province</th>\n",
       "      <th>cc_no</th>\n",
       "      <th>cc_exp</th>\n",
       "      <th>cc_type</th>\n",
       "      <th>price(CAD)</th>\n",
       "      <th>fav_color</th>\n",
       "      <th>ip</th>\n",
       "      <th>weekday</th>\n",
       "      <th>ampm</th>\n",
       "      <th>date</th>\n",
       "    </tr>\n",
       "  </thead>\n",
       "  <tbody>\n",
       "    <tr>\n",
       "      <th>5320</th>\n",
       "      <td>Dr.</td>\n",
       "      <td>Bruce</td>\n",
       "      <td>Bryan</td>\n",
       "      <td>ru@pubuspuh.cl</td>\n",
       "      <td>Male</td>\n",
       "      <td>59</td>\n",
       "      <td>Wal-Mart Stores Inc</td>\n",
       "      <td>Engineer Technician</td>\n",
       "      <td>(709) 446-8317</td>\n",
       "      <td>H6H 3Y0</td>\n",
       "      <td>NU</td>\n",
       "      <td>2.010000e+14</td>\n",
       "      <td>04/2024</td>\n",
       "      <td>Bankcard</td>\n",
       "      <td>0.0</td>\n",
       "      <td>White</td>\n",
       "      <td>82.70.62.64</td>\n",
       "      <td>Wednesday</td>\n",
       "      <td>am</td>\n",
       "      <td>12/11/1900</td>\n",
       "    </tr>\n",
       "    <tr>\n",
       "      <th>10597</th>\n",
       "      <td>Mrs.</td>\n",
       "      <td>Flora</td>\n",
       "      <td>Clark</td>\n",
       "      <td>wad@me.com</td>\n",
       "      <td>Female</td>\n",
       "      <td>27</td>\n",
       "      <td>MetLife Inc.</td>\n",
       "      <td>Cruise Director</td>\n",
       "      <td>(775) 373-6590</td>\n",
       "      <td>B2U 8K6</td>\n",
       "      <td>NB</td>\n",
       "      <td>3.010000e+13</td>\n",
       "      <td>05/2020</td>\n",
       "      <td>Diners Club Carte Blanche</td>\n",
       "      <td>0.0</td>\n",
       "      <td>Red</td>\n",
       "      <td>231.156.15.63</td>\n",
       "      <td>Thursday</td>\n",
       "      <td>pm</td>\n",
       "      <td>08/22/1904</td>\n",
       "    </tr>\n",
       "  </tbody>\n",
       "</table>\n",
       "</div>"
      ],
      "text/plain": [
       "      prefix  first   last           email  gender  age              company  \\\n",
       "5320     Dr.  Bruce  Bryan  ru@pubuspuh.cl    Male   59  Wal-Mart Stores Inc   \n",
       "10597   Mrs.  Flora  Clark      wad@me.com  Female   27         MetLife Inc.   \n",
       "\n",
       "                profession           phone   postal province         cc_no  \\\n",
       "5320   Engineer Technician  (709) 446-8317  H6H 3Y0       NU  2.010000e+14   \n",
       "10597      Cruise Director  (775) 373-6590  B2U 8K6       NB  3.010000e+13   \n",
       "\n",
       "        cc_exp                    cc_type  price(CAD) fav_color  \\\n",
       "5320   04/2024                   Bankcard         0.0     White   \n",
       "10597  05/2020  Diners Club Carte Blanche         0.0       Red   \n",
       "\n",
       "                  ip    weekday ampm        date  \n",
       "5320     82.70.62.64  Wednesday   am  12/11/1900  \n",
       "10597  231.156.15.63   Thursday   pm  08/22/1904  "
      ]
     },
     "execution_count": 85,
     "metadata": {},
     "output_type": "execute_result"
    }
   ],
   "source": [
    "df[df['price(CAD)']==0]"
   ]
  },
  {
   "cell_type": "markdown",
   "id": "fe3fb2b7",
   "metadata": {},
   "source": [
    "# 12. As a loyalty reward, company wants to send thanks coupon to those who spent 100CAD or more, please find out the customers?"
   ]
  },
  {
   "cell_type": "code",
   "execution_count": 86,
   "id": "66ecc46b",
   "metadata": {},
   "outputs": [
    {
     "data": {
      "text/html": [
       "<div>\n",
       "<style scoped>\n",
       "    .dataframe tbody tr th:only-of-type {\n",
       "        vertical-align: middle;\n",
       "    }\n",
       "\n",
       "    .dataframe tbody tr th {\n",
       "        vertical-align: top;\n",
       "    }\n",
       "\n",
       "    .dataframe thead th {\n",
       "        text-align: right;\n",
       "    }\n",
       "</style>\n",
       "<table border=\"1\" class=\"dataframe\">\n",
       "  <thead>\n",
       "    <tr style=\"text-align: right;\">\n",
       "      <th></th>\n",
       "      <th>prefix</th>\n",
       "      <th>first</th>\n",
       "      <th>last</th>\n",
       "      <th>email</th>\n",
       "      <th>gender</th>\n",
       "      <th>age</th>\n",
       "      <th>company</th>\n",
       "      <th>profession</th>\n",
       "      <th>phone</th>\n",
       "      <th>postal</th>\n",
       "      <th>province</th>\n",
       "      <th>cc_no</th>\n",
       "      <th>cc_exp</th>\n",
       "      <th>cc_type</th>\n",
       "      <th>price(CAD)</th>\n",
       "      <th>fav_color</th>\n",
       "      <th>ip</th>\n",
       "      <th>weekday</th>\n",
       "      <th>ampm</th>\n",
       "      <th>date</th>\n",
       "    </tr>\n",
       "  </thead>\n",
       "  <tbody>\n",
       "    <tr>\n",
       "      <th>76</th>\n",
       "      <td>Mrs.</td>\n",
       "      <td>Gregory</td>\n",
       "      <td>Brown</td>\n",
       "      <td>hav@jek.gs</td>\n",
       "      <td>Female</td>\n",
       "      <td>31</td>\n",
       "      <td>E*Trade Group, Inc.</td>\n",
       "      <td>Novelist</td>\n",
       "      <td>(625) 537-8923</td>\n",
       "      <td>X3S 4Q2</td>\n",
       "      <td>PE</td>\n",
       "      <td>6.010000e+15</td>\n",
       "      <td>04/2018</td>\n",
       "      <td>Visa</td>\n",
       "      <td>100.0</td>\n",
       "      <td>Green</td>\n",
       "      <td>212.100.18.95</td>\n",
       "      <td>Monday</td>\n",
       "      <td>am</td>\n",
       "      <td>10/23/2063</td>\n",
       "    </tr>\n",
       "    <tr>\n",
       "      <th>21093</th>\n",
       "      <td>Mrs.</td>\n",
       "      <td>Cody</td>\n",
       "      <td>Christensen</td>\n",
       "      <td>get@jovu.ag</td>\n",
       "      <td>Male</td>\n",
       "      <td>28</td>\n",
       "      <td>National City Corp.</td>\n",
       "      <td>Hospital Administrator</td>\n",
       "      <td>(261) 737-3292</td>\n",
       "      <td>X0S 1O5</td>\n",
       "      <td>PE</td>\n",
       "      <td>2.010000e+14</td>\n",
       "      <td>03/2024</td>\n",
       "      <td>JCB</td>\n",
       "      <td>100.0</td>\n",
       "      <td>Green</td>\n",
       "      <td>168.48.19.165</td>\n",
       "      <td>Wednesday</td>\n",
       "      <td>pm</td>\n",
       "      <td>03/28/1955</td>\n",
       "    </tr>\n",
       "    <tr>\n",
       "      <th>24385</th>\n",
       "      <td>Miss</td>\n",
       "      <td>Lizzie</td>\n",
       "      <td>Dixon</td>\n",
       "      <td>goh@tuwjaz.gd</td>\n",
       "      <td>Female</td>\n",
       "      <td>38</td>\n",
       "      <td>FleetBoston Financial Co.</td>\n",
       "      <td>Compensation Analyst</td>\n",
       "      <td>(989) 239-1752</td>\n",
       "      <td>V8X 9V6</td>\n",
       "      <td>NB</td>\n",
       "      <td>6.300000e+15</td>\n",
       "      <td>07/2019</td>\n",
       "      <td>Bankcard</td>\n",
       "      <td>100.0</td>\n",
       "      <td>Blue</td>\n",
       "      <td>140.87.99.78</td>\n",
       "      <td>Saturday</td>\n",
       "      <td>pm</td>\n",
       "      <td>03/03/1983</td>\n",
       "    </tr>\n",
       "  </tbody>\n",
       "</table>\n",
       "</div>"
      ],
      "text/plain": [
       "      prefix    first         last          email  gender  age  \\\n",
       "76      Mrs.  Gregory        Brown     hav@jek.gs  Female   31   \n",
       "21093   Mrs.     Cody  Christensen    get@jovu.ag    Male   28   \n",
       "24385   Miss   Lizzie        Dixon  goh@tuwjaz.gd  Female   38   \n",
       "\n",
       "                         company              profession           phone  \\\n",
       "76           E*Trade Group, Inc.                Novelist  (625) 537-8923   \n",
       "21093        National City Corp.  Hospital Administrator  (261) 737-3292   \n",
       "24385  FleetBoston Financial Co.    Compensation Analyst  (989) 239-1752   \n",
       "\n",
       "        postal province         cc_no   cc_exp   cc_type  price(CAD)  \\\n",
       "76     X3S 4Q2       PE  6.010000e+15  04/2018      Visa       100.0   \n",
       "21093  X0S 1O5       PE  2.010000e+14  03/2024       JCB       100.0   \n",
       "24385  V8X 9V6       NB  6.300000e+15  07/2019  Bankcard       100.0   \n",
       "\n",
       "      fav_color             ip    weekday ampm        date  \n",
       "76        Green  212.100.18.95     Monday   am  10/23/2063  \n",
       "21093     Green  168.48.19.165  Wednesday   pm  03/28/1955  \n",
       "24385      Blue   140.87.99.78   Saturday   pm  03/03/1983  "
      ]
     },
     "execution_count": 86,
     "metadata": {},
     "output_type": "execute_result"
    }
   ],
   "source": [
    "df[df['price(CAD)'] >=100]"
   ]
  },
  {
   "cell_type": "markdown",
   "id": "b69e6b44",
   "metadata": {},
   "source": [
    "# 13. How many emails are associated with this credit card number '5020000000000230'?"
   ]
  },
  {
   "cell_type": "code",
   "execution_count": 142,
   "id": "dbf1d4ec",
   "metadata": {},
   "outputs": [
    {
     "data": {
      "text/plain": [
       "email    1681\n",
       "dtype: int64"
      ]
     },
     "execution_count": 142,
     "metadata": {},
     "output_type": "execute_result"
    }
   ],
   "source": [
    "df[df['cc_no']==5.020000e+15][['email']].count()"
   ]
  },
  {
   "cell_type": "markdown",
   "id": "49fd97b0",
   "metadata": {},
   "source": [
    "# 14. We need to send new cards to the customers well before the expire, how many cards are expiring in 2019?"
   ]
  },
  {
   "cell_type": "code",
   "execution_count": 158,
   "id": "b592dffb",
   "metadata": {},
   "outputs": [],
   "source": [
    "df[['cc_exp_month', 'cc_exp_year']] = df['cc_exp'].str.split('/', expand=True)\n"
   ]
  },
  {
   "cell_type": "code",
   "execution_count": 162,
   "id": "659527d0",
   "metadata": {},
   "outputs": [
    {
     "data": {
      "text/plain": [
       "cc_exp    2684\n",
       "dtype: int64"
      ]
     },
     "execution_count": 162,
     "metadata": {},
     "output_type": "execute_result"
    }
   ],
   "source": [
    "df[df['cc_exp_year']=='2019'][['cc_exp']].count()"
   ]
  },
  {
   "cell_type": "markdown",
   "id": "f23664cc",
   "metadata": {},
   "source": [
    "# 15. How many people use Visa as their Credit Card Provider?"
   ]
  },
  {
   "cell_type": "code",
   "execution_count": 169,
   "id": "cf159a75",
   "metadata": {},
   "outputs": [
    {
     "data": {
      "text/plain": [
       "cc_type    1721\n",
       "dtype: int64"
      ]
     },
     "execution_count": 169,
     "metadata": {},
     "output_type": "execute_result"
    }
   ],
   "source": [
    "df[df['cc_type']=='Visa'][['cc_type']].count()"
   ]
  },
  {
   "cell_type": "markdown",
   "id": "aceb8cf6",
   "metadata": {},
   "source": [
    "# 16. Can you find the customer who spent 100 CAD using Visa?"
   ]
  },
  {
   "cell_type": "code",
   "execution_count": 176,
   "id": "d9000c3a",
   "metadata": {},
   "outputs": [
    {
     "data": {
      "text/html": [
       "<div>\n",
       "<style scoped>\n",
       "    .dataframe tbody tr th:only-of-type {\n",
       "        vertical-align: middle;\n",
       "    }\n",
       "\n",
       "    .dataframe tbody tr th {\n",
       "        vertical-align: top;\n",
       "    }\n",
       "\n",
       "    .dataframe thead th {\n",
       "        text-align: right;\n",
       "    }\n",
       "</style>\n",
       "<table border=\"1\" class=\"dataframe\">\n",
       "  <thead>\n",
       "    <tr style=\"text-align: right;\">\n",
       "      <th></th>\n",
       "      <th>prefix</th>\n",
       "      <th>first</th>\n",
       "      <th>last</th>\n",
       "      <th>email</th>\n",
       "      <th>gender</th>\n",
       "      <th>age</th>\n",
       "      <th>company</th>\n",
       "      <th>profession</th>\n",
       "      <th>phone</th>\n",
       "      <th>postal</th>\n",
       "      <th>...</th>\n",
       "      <th>price(CAD)</th>\n",
       "      <th>fav_color</th>\n",
       "      <th>ip</th>\n",
       "      <th>weekday</th>\n",
       "      <th>ampm</th>\n",
       "      <th>date</th>\n",
       "      <th>cc_str</th>\n",
       "      <th>cc_no_str</th>\n",
       "      <th>cc_exp_month</th>\n",
       "      <th>cc_exp_year</th>\n",
       "    </tr>\n",
       "  </thead>\n",
       "  <tbody>\n",
       "    <tr>\n",
       "      <th>76</th>\n",
       "      <td>Mrs.</td>\n",
       "      <td>Gregory</td>\n",
       "      <td>Brown</td>\n",
       "      <td>hav@jek.gs</td>\n",
       "      <td>Female</td>\n",
       "      <td>31</td>\n",
       "      <td>E*Trade Group, Inc.</td>\n",
       "      <td>Novelist</td>\n",
       "      <td>(625) 537-8923</td>\n",
       "      <td>X3S 4Q2</td>\n",
       "      <td>...</td>\n",
       "      <td>100.0</td>\n",
       "      <td>Green</td>\n",
       "      <td>212.100.18.95</td>\n",
       "      <td>Monday</td>\n",
       "      <td>am</td>\n",
       "      <td>10/23/2063</td>\n",
       "      <td>6010000000000000</td>\n",
       "      <td>6010000000000000</td>\n",
       "      <td>04</td>\n",
       "      <td>2018</td>\n",
       "    </tr>\n",
       "  </tbody>\n",
       "</table>\n",
       "<p>1 rows × 24 columns</p>\n",
       "</div>"
      ],
      "text/plain": [
       "   prefix    first   last       email  gender  age              company  \\\n",
       "76   Mrs.  Gregory  Brown  hav@jek.gs  Female   31  E*Trade Group, Inc.   \n",
       "\n",
       "   profession           phone   postal  ... price(CAD)  fav_color  \\\n",
       "76   Novelist  (625) 537-8923  X3S 4Q2  ...      100.0      Green   \n",
       "\n",
       "               ip weekday  ampm        date            cc_str  \\\n",
       "76  212.100.18.95  Monday    am  10/23/2063  6010000000000000   \n",
       "\n",
       "           cc_no_str cc_exp_month cc_exp_year  \n",
       "76  6010000000000000           04        2018  \n",
       "\n",
       "[1 rows x 24 columns]"
      ]
     },
     "execution_count": 176,
     "metadata": {},
     "output_type": "execute_result"
    }
   ],
   "source": [
    "df[(df['price(CAD)']==100) & (df['cc_type']=='Visa')]"
   ]
  },
  {
   "cell_type": "markdown",
   "id": "806fabc1",
   "metadata": {},
   "source": [
    "# 17. What are two most common professions?"
   ]
  },
  {
   "cell_type": "code",
   "execution_count": 180,
   "id": "5c80be10",
   "metadata": {},
   "outputs": [
    {
     "data": {
      "text/plain": [
       "profession\n",
       "Preschool Teacher       112\n",
       "Distribution Manager    107\n",
       "Name: count, dtype: int64"
      ]
     },
     "execution_count": 180,
     "metadata": {},
     "output_type": "execute_result"
    }
   ],
   "source": [
    "df['profession'].value_counts().head(2)"
   ]
  },
  {
   "cell_type": "markdown",
   "id": "1a876324",
   "metadata": {},
   "source": [
    "# 18. Can you tell the top 5 most popular email providers? (e.g. gmail.com, yahoo.com, etc...)"
   ]
  },
  {
   "cell_type": "code",
   "execution_count": 181,
   "id": "65ce3f19",
   "metadata": {},
   "outputs": [
    {
     "data": {
      "text/html": [
       "<div>\n",
       "<style scoped>\n",
       "    .dataframe tbody tr th:only-of-type {\n",
       "        vertical-align: middle;\n",
       "    }\n",
       "\n",
       "    .dataframe tbody tr th {\n",
       "        vertical-align: top;\n",
       "    }\n",
       "\n",
       "    .dataframe thead th {\n",
       "        text-align: right;\n",
       "    }\n",
       "</style>\n",
       "<table border=\"1\" class=\"dataframe\">\n",
       "  <thead>\n",
       "    <tr style=\"text-align: right;\">\n",
       "      <th></th>\n",
       "      <th>prefix</th>\n",
       "      <th>first</th>\n",
       "      <th>last</th>\n",
       "      <th>email</th>\n",
       "      <th>gender</th>\n",
       "      <th>age</th>\n",
       "      <th>company</th>\n",
       "      <th>profession</th>\n",
       "      <th>phone</th>\n",
       "      <th>postal</th>\n",
       "      <th>...</th>\n",
       "      <th>price(CAD)</th>\n",
       "      <th>fav_color</th>\n",
       "      <th>ip</th>\n",
       "      <th>weekday</th>\n",
       "      <th>ampm</th>\n",
       "      <th>date</th>\n",
       "      <th>cc_str</th>\n",
       "      <th>cc_no_str</th>\n",
       "      <th>cc_exp_month</th>\n",
       "      <th>cc_exp_year</th>\n",
       "    </tr>\n",
       "  </thead>\n",
       "  <tbody>\n",
       "    <tr>\n",
       "      <th>0</th>\n",
       "      <td>Dr.</td>\n",
       "      <td>Ray</td>\n",
       "      <td>Morton</td>\n",
       "      <td>sebvajom@kol.km</td>\n",
       "      <td>Male</td>\n",
       "      <td>38</td>\n",
       "      <td>Medtronic Inc.</td>\n",
       "      <td>Health Therapist</td>\n",
       "      <td>(987) 619-2695</td>\n",
       "      <td>B6V 3W3</td>\n",
       "      <td>...</td>\n",
       "      <td>8.36</td>\n",
       "      <td>Blue</td>\n",
       "      <td>126.23.139.2</td>\n",
       "      <td>Sunday</td>\n",
       "      <td>pm</td>\n",
       "      <td>04/05/1930</td>\n",
       "      <td>5020000000000000</td>\n",
       "      <td>5020000000000000</td>\n",
       "      <td>05</td>\n",
       "      <td>2018</td>\n",
       "    </tr>\n",
       "    <tr>\n",
       "      <th>1</th>\n",
       "      <td>Miss</td>\n",
       "      <td>Claudia</td>\n",
       "      <td>Rodriquez</td>\n",
       "      <td>acu@jatsot.ug</td>\n",
       "      <td>Female</td>\n",
       "      <td>51</td>\n",
       "      <td>Ames Department Stores, Inc.</td>\n",
       "      <td>Health Therapist</td>\n",
       "      <td>(356) 736-7352</td>\n",
       "      <td>G7M 5F3</td>\n",
       "      <td>...</td>\n",
       "      <td>68.31</td>\n",
       "      <td>Black</td>\n",
       "      <td>106.198.76.211</td>\n",
       "      <td>Tuesday</td>\n",
       "      <td>am</td>\n",
       "      <td>12/20/1926</td>\n",
       "      <td>5020000000000000</td>\n",
       "      <td>5020000000000000</td>\n",
       "      <td>07</td>\n",
       "      <td>2028</td>\n",
       "    </tr>\n",
       "    <tr>\n",
       "      <th>2</th>\n",
       "      <td>Miss</td>\n",
       "      <td>Harry</td>\n",
       "      <td>Meyer</td>\n",
       "      <td>zuz@lo.wf</td>\n",
       "      <td>Female</td>\n",
       "      <td>51</td>\n",
       "      <td>CSX Corp.</td>\n",
       "      <td>Political Scientist</td>\n",
       "      <td>(539) 246-1806</td>\n",
       "      <td>A0Z 6P9</td>\n",
       "      <td>...</td>\n",
       "      <td>34.65</td>\n",
       "      <td>Black</td>\n",
       "      <td>186.150.187.29</td>\n",
       "      <td>Wednesday</td>\n",
       "      <td>pm</td>\n",
       "      <td>08/20/1931</td>\n",
       "      <td>6300000000000000</td>\n",
       "      <td>6300000000000000</td>\n",
       "      <td>02</td>\n",
       "      <td>2023</td>\n",
       "    </tr>\n",
       "    <tr>\n",
       "      <th>3</th>\n",
       "      <td>Miss</td>\n",
       "      <td>Edith</td>\n",
       "      <td>Gilbert</td>\n",
       "      <td>hansohsi@jupec.md</td>\n",
       "      <td>Female</td>\n",
       "      <td>55</td>\n",
       "      <td>Murphy Oil Corporation</td>\n",
       "      <td>Transportation Manager</td>\n",
       "      <td>(984) 962-7494</td>\n",
       "      <td>P9I 9H3</td>\n",
       "      <td>...</td>\n",
       "      <td>64.59</td>\n",
       "      <td>White</td>\n",
       "      <td>80.140.57.161</td>\n",
       "      <td>Saturday</td>\n",
       "      <td>am</td>\n",
       "      <td>06/18/2001</td>\n",
       "      <td>3530000000000000</td>\n",
       "      <td>3530000000000000</td>\n",
       "      <td>02</td>\n",
       "      <td>2028</td>\n",
       "    </tr>\n",
       "    <tr>\n",
       "      <th>4</th>\n",
       "      <td>Dr.</td>\n",
       "      <td>Lura</td>\n",
       "      <td>Murphy</td>\n",
       "      <td>webediti@je.st</td>\n",
       "      <td>Female</td>\n",
       "      <td>20</td>\n",
       "      <td>PETsMART Inc</td>\n",
       "      <td>Statistician</td>\n",
       "      <td>(902) 568-9748</td>\n",
       "      <td>S1A 6K0</td>\n",
       "      <td>...</td>\n",
       "      <td>20.83</td>\n",
       "      <td>Yellow</td>\n",
       "      <td>211.103.43.41</td>\n",
       "      <td>Friday</td>\n",
       "      <td>pm</td>\n",
       "      <td>06/14/2045</td>\n",
       "      <td>4030000000000000</td>\n",
       "      <td>4030000000000000</td>\n",
       "      <td>10</td>\n",
       "      <td>2025</td>\n",
       "    </tr>\n",
       "  </tbody>\n",
       "</table>\n",
       "<p>5 rows × 24 columns</p>\n",
       "</div>"
      ],
      "text/plain": [
       "  prefix    first       last              email  gender  age  \\\n",
       "0    Dr.      Ray     Morton    sebvajom@kol.km    Male   38   \n",
       "1   Miss  Claudia  Rodriquez      acu@jatsot.ug  Female   51   \n",
       "2   Miss    Harry      Meyer          zuz@lo.wf  Female   51   \n",
       "3   Miss    Edith    Gilbert  hansohsi@jupec.md  Female   55   \n",
       "4    Dr.     Lura     Murphy     webediti@je.st  Female   20   \n",
       "\n",
       "                        company              profession           phone  \\\n",
       "0                Medtronic Inc.        Health Therapist  (987) 619-2695   \n",
       "1  Ames Department Stores, Inc.        Health Therapist  (356) 736-7352   \n",
       "2                     CSX Corp.     Political Scientist  (539) 246-1806   \n",
       "3        Murphy Oil Corporation  Transportation Manager  (984) 962-7494   \n",
       "4                  PETsMART Inc            Statistician  (902) 568-9748   \n",
       "\n",
       "    postal  ... price(CAD)  fav_color              ip    weekday  ampm  \\\n",
       "0  B6V 3W3  ...       8.36       Blue    126.23.139.2     Sunday    pm   \n",
       "1  G7M 5F3  ...      68.31      Black  106.198.76.211    Tuesday    am   \n",
       "2  A0Z 6P9  ...      34.65      Black  186.150.187.29  Wednesday    pm   \n",
       "3  P9I 9H3  ...      64.59      White   80.140.57.161   Saturday    am   \n",
       "4  S1A 6K0  ...      20.83     Yellow   211.103.43.41     Friday    pm   \n",
       "\n",
       "         date            cc_str         cc_no_str cc_exp_month cc_exp_year  \n",
       "0  04/05/1930  5020000000000000  5020000000000000           05        2018  \n",
       "1  12/20/1926  5020000000000000  5020000000000000           07        2028  \n",
       "2  08/20/1931  6300000000000000  6300000000000000           02        2023  \n",
       "3  06/18/2001  3530000000000000  3530000000000000           02        2028  \n",
       "4  06/14/2045  4030000000000000  4030000000000000           10        2025  \n",
       "\n",
       "[5 rows x 24 columns]"
      ]
     },
     "execution_count": 181,
     "metadata": {},
     "output_type": "execute_result"
    }
   ],
   "source": [
    "df.head()"
   ]
  },
  {
   "cell_type": "code",
   "execution_count": 188,
   "id": "d6d8bf71",
   "metadata": {},
   "outputs": [],
   "source": [
    "df['email_domain'] = df['email'].str.split('@').str[1]\n"
   ]
  },
  {
   "cell_type": "code",
   "execution_count": 190,
   "id": "0e735640",
   "metadata": {},
   "outputs": [
    {
     "data": {
      "text/plain": [
       "email_domain\n",
       "gmail.com      1687\n",
       "me.com         1676\n",
       "outlook.com    1664\n",
       "live.com       1660\n",
       "hotmail.com    1659\n",
       "Name: count, dtype: int64"
      ]
     },
     "execution_count": 190,
     "metadata": {},
     "output_type": "execute_result"
    }
   ],
   "source": [
    "df['email_domain'].value_counts().head()"
   ]
  },
  {
   "cell_type": "markdown",
   "id": "46e0c1c9",
   "metadata": {},
   "source": [
    "# 19. Is there any customer who is using email with \"am.edu\"?"
   ]
  },
  {
   "cell_type": "code",
   "execution_count": 193,
   "id": "14b209c6",
   "metadata": {},
   "outputs": [
    {
     "data": {
      "text/html": [
       "<div>\n",
       "<style scoped>\n",
       "    .dataframe tbody tr th:only-of-type {\n",
       "        vertical-align: middle;\n",
       "    }\n",
       "\n",
       "    .dataframe tbody tr th {\n",
       "        vertical-align: top;\n",
       "    }\n",
       "\n",
       "    .dataframe thead th {\n",
       "        text-align: right;\n",
       "    }\n",
       "</style>\n",
       "<table border=\"1\" class=\"dataframe\">\n",
       "  <thead>\n",
       "    <tr style=\"text-align: right;\">\n",
       "      <th></th>\n",
       "      <th>prefix</th>\n",
       "      <th>first</th>\n",
       "      <th>last</th>\n",
       "      <th>email</th>\n",
       "      <th>gender</th>\n",
       "      <th>age</th>\n",
       "      <th>company</th>\n",
       "      <th>profession</th>\n",
       "      <th>phone</th>\n",
       "      <th>postal</th>\n",
       "      <th>...</th>\n",
       "      <th>fav_color</th>\n",
       "      <th>ip</th>\n",
       "      <th>weekday</th>\n",
       "      <th>ampm</th>\n",
       "      <th>date</th>\n",
       "      <th>cc_str</th>\n",
       "      <th>cc_no_str</th>\n",
       "      <th>cc_exp_month</th>\n",
       "      <th>cc_exp_year</th>\n",
       "      <th>email_domain</th>\n",
       "    </tr>\n",
       "  </thead>\n",
       "  <tbody>\n",
       "    <tr>\n",
       "      <th>150</th>\n",
       "      <td>Miss</td>\n",
       "      <td>Loretta</td>\n",
       "      <td>Fletcher</td>\n",
       "      <td>barit@am.edu</td>\n",
       "      <td>Female</td>\n",
       "      <td>48</td>\n",
       "      <td>York International Corp</td>\n",
       "      <td>Rehabilitation Counselor</td>\n",
       "      <td>(323) 279-8038</td>\n",
       "      <td>E5X 8L0</td>\n",
       "      <td>...</td>\n",
       "      <td>White</td>\n",
       "      <td>147.57.240.225</td>\n",
       "      <td>Monday</td>\n",
       "      <td>am</td>\n",
       "      <td>11/07/2066</td>\n",
       "      <td>6330000000000000</td>\n",
       "      <td>6330000000000000</td>\n",
       "      <td>05</td>\n",
       "      <td>2021</td>\n",
       "      <td>am.edu</td>\n",
       "    </tr>\n",
       "  </tbody>\n",
       "</table>\n",
       "<p>1 rows × 25 columns</p>\n",
       "</div>"
      ],
      "text/plain": [
       "    prefix    first      last         email  gender  age  \\\n",
       "150   Miss  Loretta  Fletcher  barit@am.edu  Female   48   \n",
       "\n",
       "                     company                profession           phone  \\\n",
       "150  York International Corp  Rehabilitation Counselor  (323) 279-8038   \n",
       "\n",
       "      postal  ... fav_color              ip weekday ampm        date  \\\n",
       "150  E5X 8L0  ...     White  147.57.240.225  Monday   am  11/07/2066   \n",
       "\n",
       "               cc_str         cc_no_str cc_exp_month cc_exp_year email_domain  \n",
       "150  6330000000000000  6330000000000000           05        2021       am.edu  \n",
       "\n",
       "[1 rows x 25 columns]"
      ]
     },
     "execution_count": 193,
     "metadata": {},
     "output_type": "execute_result"
    }
   ],
   "source": [
    "df[df['email_domain']=='am.edu']"
   ]
  },
  {
   "cell_type": "markdown",
   "id": "74c47cdb",
   "metadata": {},
   "source": [
    "# 20. Which day of the week, the store gets more customers?"
   ]
  },
  {
   "cell_type": "code",
   "execution_count": 196,
   "id": "8de64592",
   "metadata": {},
   "outputs": [
    {
     "data": {
      "text/plain": [
       "weekday\n",
       "Saturday     4376\n",
       "Wednesday    4365\n",
       "Thursday     4327\n",
       "Friday       4316\n",
       "Monday       4216\n",
       "Sunday       4213\n",
       "Tuesday      4187\n",
       "Name: count, dtype: int64"
      ]
     },
     "execution_count": 196,
     "metadata": {},
     "output_type": "execute_result"
    }
   ],
   "source": [
    "df['weekday'].value_counts()"
   ]
  },
  {
   "cell_type": "code",
   "execution_count": null,
   "id": "f2abd983",
   "metadata": {},
   "outputs": [],
   "source": []
  },
  {
   "cell_type": "code",
   "execution_count": null,
   "id": "cd248467",
   "metadata": {},
   "outputs": [],
   "source": []
  }
 ],
 "metadata": {
  "kernelspec": {
   "display_name": "Python 3 (ipykernel)",
   "language": "python",
   "name": "python3"
  },
  "language_info": {
   "codemirror_mode": {
    "name": "ipython",
    "version": 3
   },
   "file_extension": ".py",
   "mimetype": "text/x-python",
   "name": "python",
   "nbconvert_exporter": "python",
   "pygments_lexer": "ipython3",
   "version": "3.11.6"
  }
 },
 "nbformat": 4,
 "nbformat_minor": 5
}
