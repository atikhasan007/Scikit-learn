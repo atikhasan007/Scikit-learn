{
  "cells": [
    {
      "cell_type": "markdown",
      "metadata": {
        "id": "view-in-github",
        "colab_type": "text"
      },
      "source": [
        "<a href=\"https://colab.research.google.com/github/atikhasan007/Scikit-learn/blob/main/AB_testing.ipynb\" target=\"_parent\"><img src=\"https://colab.research.google.com/assets/colab-badge.svg\" alt=\"Open In Colab\"/></a>"
      ]
    },
    {
      "cell_type": "code",
      "source": [
        "import numpy as np\n",
        "from scipy import stats\n"
      ],
      "metadata": {
        "id": "jPLAlLW-8NRK"
      },
      "execution_count": 1,
      "outputs": []
    },
    {
      "cell_type": "code",
      "source": [
        "# Simulated data\n",
        "# 1 = clicked , 0 = not clicked\n"
      ],
      "metadata": {
        "id": "ldt7Tin28NOt"
      },
      "execution_count": 2,
      "outputs": []
    },
    {
      "cell_type": "code",
      "source": [
        "np.random.seed(42)"
      ],
      "metadata": {
        "id": "_vJJGMTR8NMS"
      },
      "execution_count": 3,
      "outputs": []
    },
    {
      "cell_type": "markdown",
      "source": [
        "তুমি ১০০ জন ইউজার ধরছো,\n",
        "প্রত্যেক ইউজারের ২০% সম্ভাবনা আছে \"ক্লিক করবে (১)\"\n",
        "আর ৮০% সম্ভাবনা আছে \"না করবে (০)\"।"
      ],
      "metadata": {
        "id": "ho8r4MbF9izi"
      }
    },
    {
      "cell_type": "code",
      "source": [
        "group_A = np.random.binomial(1, 0.20, 100)\n",
        "print(group_A)"
      ],
      "metadata": {
        "id": "lH3xaGlr8NJ4",
        "outputId": "73c37f7b-5b47-45a7-deb8-4935dd98313a",
        "colab": {
          "base_uri": "https://localhost:8080/"
        }
      },
      "execution_count": 5,
      "outputs": [
        {
          "output_type": "stream",
          "name": "stdout",
          "text": [
            "[0 0 0 0 1 0 0 0 0 0 0 0 1 1 0 1 1 0 1 0 1 1 0 0 0 0 1 1 0 0 0 0 0 0 1 0 0\n",
            " 0 0 1 1 0 0 0 0 0 0 0 0 0 1 0 0 0 1 0 0 0 0 0 0 0 0 0 0 1 0 0 0 0 0 0 0 0\n",
            " 0 0 0 0 1 0 0 0 1 1 0 0 1 0 0 0 0 1 1 0 0 0 0 1 1 0]\n"
          ]
        }
      ]
    },
    {
      "cell_type": "code",
      "source": [
        "group_B = np.random.binomial(1, 0.27, 100)\n",
        "print(group_B)"
      ],
      "metadata": {
        "id": "B90fj9ZF9rhw",
        "outputId": "5d293cfa-450c-4648-f9cb-8e90367d9a7e",
        "colab": {
          "base_uri": "https://localhost:8080/"
        }
      },
      "execution_count": 6,
      "outputs": [
        {
          "output_type": "stream",
          "name": "stdout",
          "text": [
            "[0 0 0 1 0 0 0 0 0 0 0 0 0 0 0 0 0 1 0 1 0 0 0 0 0 0 1 0 1 0 1 0 0 0 0 0 0\n",
            " 0 0 0 1 1 1 0 0 1 0 1 1 1 0 0 1 0 0 0 1 0 0 0 0 1 0 0 1 1 0 0 0 0 1 1 1 1\n",
            " 0 0 1 0 0 1 1 0 0 0 0 0 0 0 0 0 0 0 1 0 0 0 1 0 0 0]\n"
          ]
        }
      ]
    },
    {
      "cell_type": "code",
      "source": [
        "#mean click rate\n",
        "print(\"A Mean : \" , np.mean(group_A))\n",
        "print(\"B Mean : \", np.mean(group_B))"
      ],
      "metadata": {
        "id": "B0foiWdX9z0c",
        "outputId": "0526abcf-bced-4e74-bd74-e90855f3b308",
        "colab": {
          "base_uri": "https://localhost:8080/"
        }
      },
      "execution_count": 7,
      "outputs": [
        {
          "output_type": "stream",
          "name": "stdout",
          "text": [
            "A Mean :  0.24\n",
            "B Mean :  0.27\n"
          ]
        }
      ]
    },
    {
      "cell_type": "code",
      "source": [
        "# T-test (independent samples)\n",
        "t_statistic, p_value = stats.ttest_ind(group_A, group_B)\n",
        "\n",
        "print(\"\\nT-statistic : \",t_statistic)\n",
        "print(\"P-value : \",p_value)"
      ],
      "metadata": {
        "id": "O8StqmAA-Cbk",
        "outputId": "328445df-0a8c-42ea-c4bf-7720992ed48e",
        "colab": {
          "base_uri": "https://localhost:8080/"
        }
      },
      "execution_count": 10,
      "outputs": [
        {
          "output_type": "stream",
          "name": "stdout",
          "text": [
            "\n",
            "T-statistic :  -0.4845437118523494\n",
            "P-value :  0.6285356244505831\n"
          ]
        }
      ]
    },
    {
      "cell_type": "code",
      "source": [
        "# Interpretation\n",
        "alpha = 0.05\n",
        "if p_value < alpha:\n",
        "    print(\"\\n✅ Result: Significant difference (Reject H₀)\")\n",
        "else:\n",
        "    print(\"\\n❌ Result: No significant difference (Fail to reject H₀)\")"
      ],
      "metadata": {
        "id": "dJjSdSHc-f9c",
        "outputId": "eb05f286-e5af-4bed-a3bc-e442616f62d5",
        "colab": {
          "base_uri": "https://localhost:8080/"
        }
      },
      "execution_count": 13,
      "outputs": [
        {
          "output_type": "stream",
          "name": "stdout",
          "text": [
            "\n",
            "❌ Result: No significant difference (Fail to reject H₀)\n"
          ]
        }
      ]
    },
    {
      "cell_type": "markdown",
      "source": [
        "| বিষয়               | ব্যাখ্যা                        |\n",
        "| ------------------ | ------------------------------- |\n",
        "| **Hypothesis**     | “দুই গ্রুপে পার্থক্য আছে কি না” |\n",
        "| **Test Type**      | t-test বা z-test                |\n",
        "| **p-value < 0.05** | ফলাফল significant               |\n",
        "| **p-value > 0.05** | কোনো পার্থক্য প্রমাণিত নয়       |\n"
      ],
      "metadata": {
        "id": "V7mV_iRy_8lu"
      }
    },
    {
      "cell_type": "code",
      "source": [
        "import matplotlib.pyplot as plt\n",
        "\n",
        "plt.bar(['A', 'B'], [np.mean(group_A), np.mean(group_B)])\n",
        "plt.title(\"A/B Test - Click Rate Comparison\")\n",
        "plt.ylabel(\"Mean Click Rate\")\n",
        "plt.show()\n"
      ],
      "metadata": {
        "id": "XSaEOF8W-f6u",
        "outputId": "31307337-a25f-47ee-f7f1-74b3e4c1824d",
        "colab": {
          "base_uri": "https://localhost:8080/",
          "height": 452
        }
      },
      "execution_count": 14,
      "outputs": [
        {
          "output_type": "display_data",
          "data": {
            "text/plain": [
              "<Figure size 640x480 with 1 Axes>"
            ],
            "image/png": "[encoded data removed]"
          },
          "metadata": {}
        }
      ]
    }
  ],
  "metadata": {
    "colab": {
      "name": "Welcome To Colab",
      "provenance": [],
      "include_colab_link": true
    },
    "kernelspec": {
      "display_name": "Python 3",
      "name": "python3"
    }
  },
  "nbformat": 4,
  "nbformat_minor": 0
}